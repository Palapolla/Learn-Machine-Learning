{
 "cells": [
  {
   "cell_type": "markdown",
   "metadata": {},
   "source": [
    "# Deep Learning\n"
   ]
  },
  {
   "cell_type": "markdown",
   "metadata": {},
   "source": [
    "### MNIST Dataset\n",
    "<br> handwritten digits from keras "
   ]
  },
  {
   "cell_type": "markdown",
   "metadata": {},
   "source": [
    "#### ขั้นตอนการเตรียมข้อมูล"
   ]
  },
  {
   "cell_type": "code",
   "execution_count": 38,
   "metadata": {},
   "outputs": [
    {
     "name": "stdout",
     "output_type": "stream",
     "text": [
      "Xtrain.shape (60000, 28, 28)\n",
      "Ytrain.shape (60000,)\n"
     ]
    }
   ],
   "source": [
    "import tensorflow as tf\n",
    "import numpy as np\n",
    "# import dataset from keras\n",
    "(Xtrain,Ytrain),(Xtest,Ytest) = tf.keras.datasets.mnist.load_data()\n",
    "de_Xtest = Xtest\n",
    "print('Xtrain.shape',Xtrain.shape)\n",
    "print('Ytrain.shape',Ytrain.shape)"
   ]
  },
  {
   "cell_type": "markdown",
   "metadata": {},
   "source": [
    "เนื่องจาก Xtrain มี 3 มิติ (จำนวน,กว้าง,ยาว)\n",
    "<br>tensorflow ต้องใช้ตัวแปล 4 มิติ"
   ]
  },
  {
   "cell_type": "code",
   "execution_count": 39,
   "metadata": {},
   "outputs": [
    {
     "data": {
      "text/plain": [
       "(60000, 28, 28, 1)"
      ]
     },
     "execution_count": 39,
     "metadata": {},
     "output_type": "execute_result"
    }
   ],
   "source": [
    "Xtrain[:,:,:,None].shape\n",
    "# 1 = color scale"
   ]
  },
  {
   "cell_type": "code",
   "execution_count": 40,
   "metadata": {},
   "outputs": [
    {
     "data": {
      "image/png": "[encoded data removed]",
      "text/plain": [
       "<Figure size 432x288 with 1 Axes>"
      ]
     },
     "metadata": {
      "needs_background": "light"
     },
     "output_type": "display_data"
    }
   ],
   "source": [
    "import matplotlib.pyplot as plt\n",
    "plt.imshow(Xtrain[0],cmap='gray') # cmap = color mapping\n",
    "plt.show()"
   ]
  },
  {
   "cell_type": "markdown",
   "metadata": {},
   "source": [
    "MLP รองรับกับvectorที่เป็น 1 มิติเท่านั้น\n",
    "<br>ต้องทำการ reshape"
   ]
  },
  {
   "cell_type": "code",
   "execution_count": 41,
   "metadata": {},
   "outputs": [
    {
     "name": "stdout",
     "output_type": "stream",
     "text": [
      "Xtrain (60000, 784)\n",
      "Xtest (10000, 784)\n"
     ]
    }
   ],
   "source": [
    "Xtrain = Xtrain.reshape(-1,28*28)\n",
    "Xtest = Xtest.reshape(-1,28*28)\n",
    "\n",
    "print('Xtrain',Xtrain.shape)\n",
    "print('Xtest',Xtest.shape)"
   ]
  },
  {
   "cell_type": "markdown",
   "metadata": {},
   "source": [
    "##### One-Hot Encoding"
   ]
  },
  {
   "cell_type": "markdown",
   "metadata": {},
   "source": [
    "ตัวอย่าง \n",
    "<br>- 2 > 1 ? ในเชิงปริมาณคือ จริง\n",
    "<br>- แดง > เขียว ? คำตอบคือ ไม่รู้\n",
    "<br>- 5(รูป) > 4(รูป) ? ถ้าเป็นปริมาณคือ จริง แต่ถ้าเป็น ป้ายคำตอบคือ ไม่รู้\n",
    "<br>\n",
    "<br>จากปัญหานี้ถ้านำ NN เข้ามามันจะถูกระบุว่า 5 > 4 ทันที\n",
    "<br>One hot จะต้องนำมาทำให้ทุกอย่างไม่เกี่ยวข้องกันโดยการทำให้กลายเป็น vector ที่ตั้งฉากกัน\n",
    "<br>\n",
    "<br>จาก dataset มีรูป 0-9 จะแบ่งเป็น 10 classes โดยแต่ละclassจะมี 10 มิติ\n",
    "<br>เลข 0 จะเก็บเป็น[1,0,0,0,0,0,0,0,0,0]\n",
    "<br>เลข 1 จะเก็บเป็น[0,1,0,0,0,0,0,0,0,0]\n",
    "<br>เลข 2 จะเก็บเป็น[0,0,1,0,0,0,0,0,0,0]\n",
    "<br>...\n",
    "<br>เลข 9 จะเก็บเป็น[0,0,0,0,0,0,0,0,0,1]"
   ]
  },
  {
   "cell_type": "markdown",
   "metadata": {},
   "source": [
    "ทางเลือกเเรก\n",
    "(เขียนฟังชั่นเอง)"
   ]
  },
  {
   "cell_type": "code",
   "execution_count": 5,
   "metadata": {},
   "outputs": [],
   "source": [
    "def onehot(Y,nclass=10):\n",
    "    Y_=np.zeros((Y.shape[0],nclass))\n",
    "    for i ,y in enumerate(Y):\n",
    "        Y_[i,Y[i]]=1\n",
    "    return Y_"
   ]
  },
  {
   "cell_type": "code",
   "execution_count": 6,
   "metadata": {},
   "outputs": [],
   "source": [
    "Ytrain = onehot(Ytrain)\n",
    "Ytest = onehot(Ytest)\n"
   ]
  },
  {
   "cell_type": "code",
   "execution_count": null,
   "metadata": {},
   "outputs": [],
   "source": [
    "print(Ytrain[0])"
   ]
  },
  {
   "cell_type": "markdown",
   "metadata": {},
   "source": [
    "ทางเลือกสอง\n",
    "(ใช้ฟังชั่นของkeras)"
   ]
  },
  {
   "cell_type": "code",
   "execution_count": null,
   "metadata": {},
   "outputs": [],
   "source": [
    "Ytrain = tf.keras.utils.to_categorical(Ytrain,num_classes=10)"
   ]
  },
  {
   "cell_type": "markdown",
   "metadata": {},
   "source": [
    "#### MLP with TF for MNIST"
   ]
  },
  {
   "cell_type": "markdown",
   "metadata": {},
   "source": [
    "##### Training\n"
   ]
  },
  {
   "cell_type": "code",
   "execution_count": 7,
   "metadata": {},
   "outputs": [
    {
     "name": "stdout",
     "output_type": "stream",
     "text": [
      "Epoch 1/50\n",
      "1875/1875 [==============================] - 15s 5ms/step - loss: 0.0904 - val_loss: 0.1701\n",
      "Epoch 2/50\n",
      "1875/1875 [==============================] - 6s 3ms/step - loss: 0.0900 - val_loss: 0.1660\n",
      "Epoch 3/50\n",
      "1875/1875 [==============================] - 7s 4ms/step - loss: 0.0895 - val_loss: 0.1610\n",
      "Epoch 4/50\n",
      "1875/1875 [==============================] - 6s 3ms/step - loss: 0.0890 - val_loss: 0.1556\n",
      "Epoch 5/50\n",
      "1875/1875 [==============================] - 6s 3ms/step - loss: 0.0885 - val_loss: 0.1496\n",
      "Epoch 6/50\n",
      "1875/1875 [==============================] - 6s 3ms/step - loss: 0.0880 - val_loss: 0.1425\n",
      "Epoch 7/50\n",
      "1875/1875 [==============================] - 6s 3ms/step - loss: 0.0874 - val_loss: 0.1357\n",
      "Epoch 8/50\n",
      "1875/1875 [==============================] - 7s 4ms/step - loss: 0.0868 - val_loss: 0.1297\n",
      "Epoch 9/50\n",
      "1875/1875 [==============================] - 6s 3ms/step - loss: 0.0862 - val_loss: 0.1252\n",
      "Epoch 10/50\n",
      "1875/1875 [==============================] - 5s 3ms/step - loss: 0.0854 - val_loss: 0.1211\n",
      "Epoch 11/50\n",
      "1875/1875 [==============================] - 4s 2ms/step - loss: 0.0847 - val_loss: 0.1180\n",
      "Epoch 12/50\n",
      "1875/1875 [==============================] - 4s 2ms/step - loss: 0.0839 - val_loss: 0.1159\n",
      "Epoch 13/50\n",
      "1875/1875 [==============================] - 4s 2ms/step - loss: 0.0830 - val_loss: 0.1137\n",
      "Epoch 14/50\n",
      "1875/1875 [==============================] - 4s 2ms/step - loss: 0.0821 - val_loss: 0.1112\n",
      "Epoch 15/50\n",
      "1875/1875 [==============================] - 4s 2ms/step - loss: 0.0812 - val_loss: 0.1080\n",
      "Epoch 16/50\n",
      "1875/1875 [==============================] - 4s 2ms/step - loss: 0.0803 - val_loss: 0.1048\n",
      "Epoch 17/50\n",
      "1875/1875 [==============================] - 4s 2ms/step - loss: 0.0793 - val_loss: 0.1015\n",
      "Epoch 18/50\n",
      "1875/1875 [==============================] - 4s 2ms/step - loss: 0.0783 - val_loss: 0.0978\n",
      "Epoch 19/50\n",
      "1875/1875 [==============================] - 4s 2ms/step - loss: 0.0773 - val_loss: 0.0944\n",
      "Epoch 20/50\n",
      "1875/1875 [==============================] - 4s 2ms/step - loss: 0.0762 - val_loss: 0.0908\n",
      "Epoch 21/50\n",
      "1875/1875 [==============================] - 5s 2ms/step - loss: 0.0752 - val_loss: 0.0869\n",
      "Epoch 22/50\n",
      "1875/1875 [==============================] - 4s 2ms/step - loss: 0.0740 - val_loss: 0.0835\n",
      "Epoch 23/50\n",
      "1875/1875 [==============================] - 5s 3ms/step - loss: 0.0728 - val_loss: 0.0807\n",
      "Epoch 24/50\n",
      "1875/1875 [==============================] - 4s 2ms/step - loss: 0.0716 - val_loss: 0.0780\n",
      "Epoch 25/50\n",
      "1875/1875 [==============================] - 4s 2ms/step - loss: 0.0703 - val_loss: 0.0755\n",
      "Epoch 26/50\n",
      "1875/1875 [==============================] - 4s 2ms/step - loss: 0.0690 - val_loss: 0.0732\n",
      "Epoch 27/50\n",
      "1875/1875 [==============================] - 4s 2ms/step - loss: 0.0676 - val_loss: 0.0715s - loss: 0.06 - ETA: 0s - loss: 0\n",
      "Epoch 28/50\n",
      "1875/1875 [==============================] - 4s 2ms/step - loss: 0.0662 - val_loss: 0.0696\n",
      "Epoch 29/50\n",
      "1875/1875 [==============================] - 4s 2ms/step - loss: 0.0647 - val_loss: 0.0675\n",
      "Epoch 30/50\n",
      "1875/1875 [==============================] - 4s 2ms/step - loss: 0.0632 - val_loss: 0.0660\n",
      "Epoch 31/50\n",
      "1875/1875 [==============================] - 4s 2ms/step - loss: 0.0617 - val_loss: 0.0645\n",
      "Epoch 32/50\n",
      "1875/1875 [==============================] - 4s 2ms/step - loss: 0.0602 - val_loss: 0.0631\n",
      "Epoch 33/50\n",
      "1875/1875 [==============================] - 4s 2ms/step - loss: 0.0587 - val_loss: 0.0615\n",
      "Epoch 34/50\n",
      "1875/1875 [==============================] - 4s 2ms/step - loss: 0.0573 - val_loss: 0.0599\n",
      "Epoch 35/50\n",
      "1875/1875 [==============================] - 4s 2ms/step - loss: 0.0558 - val_loss: 0.0579\n",
      "Epoch 36/50\n",
      "1875/1875 [==============================] - 4s 2ms/step - loss: 0.0544 - val_loss: 0.0565\n",
      "Epoch 37/50\n",
      "1875/1875 [==============================] - 4s 2ms/step - loss: 0.0531 - val_loss: 0.0549\n",
      "Epoch 38/50\n",
      "1875/1875 [==============================] - 4s 2ms/step - loss: 0.0517 - val_loss: 0.0539oss - ETA: 0s - loss: 0.0\n",
      "Epoch 39/50\n",
      "1875/1875 [==============================] - 4s 2ms/step - loss: 0.0505 - val_loss: 0.0523\n",
      "Epoch 40/50\n",
      "1875/1875 [==============================] - 4s 2ms/step - loss: 0.0493 - val_loss: 0.0512\n",
      "Epoch 41/50\n",
      "1875/1875 [==============================] - 4s 2ms/step - loss: 0.0481 - val_loss: 0.0502\n",
      "Epoch 42/50\n",
      "1875/1875 [==============================] - 4s 2ms/step - loss: 0.0470 - val_loss: 0.0494\n",
      "Epoch 43/50\n",
      "1875/1875 [==============================] - 4s 2ms/step - loss: 0.0460 - val_loss: 0.0488\n",
      "Epoch 44/50\n",
      "1875/1875 [==============================] - 4s 2ms/step - loss: 0.0449 - val_loss: 0.0479\n",
      "Epoch 45/50\n",
      "1875/1875 [==============================] - 4s 2ms/step - loss: 0.0440 - val_loss: 0.0471\n",
      "Epoch 46/50\n",
      "1875/1875 [==============================] - 4s 2ms/step - loss: 0.0431 - val_loss: 0.0465\n",
      "Epoch 47/50\n",
      "1875/1875 [==============================] - 3s 2ms/step - loss: 0.0422 - val_loss: 0.0460\n",
      "Epoch 48/50\n",
      "1875/1875 [==============================] - 4s 2ms/step - loss: 0.0414 - val_loss: 0.0456\n",
      "Epoch 49/50\n",
      "1875/1875 [==============================] - 4s 2ms/step - loss: 0.0405 - val_loss: 0.0451\n",
      "Epoch 50/50\n",
      "1875/1875 [==============================] - 4s 2ms/step - loss: 0.0397 - val_loss: 0.0447\n"
     ]
    },
    {
     "data": {
      "text/plain": [
       "<keras.callbacks.History at 0x1b0977d40a0>"
      ]
     },
     "execution_count": 7,
     "metadata": {},
     "output_type": "execute_result"
    }
   ],
   "source": [
    "# Architecture \n",
    "# 768 => 200 => 200 => 10\n",
    "d_in = (Xtrain.shape[1],)\n",
    "model = tf.keras.Sequential()\n",
    "model.add(tf.keras.layers.Dense(200,input_shape=d_in,\n",
    "                                activation='relu'))\n",
    "model.add(tf.keras.layers.Dense(200,\n",
    "                                activation='relu'))\n",
    "model.add(tf.keras.layers.Dense(10, activation='softmax'))     \n",
    "model.compile(loss=tf.keras.losses.MeanSquaredError(),\n",
    "                optimizer=tf.keras.optimizers.SGD(learning_rate=0.001))   \n",
    "                \n",
    "model.fit(Xtrain/255.,Ytrain,epochs=50,validation_data=(Xtest,Ytest))                    \n"
   ]
  },
  {
   "cell_type": "markdown",
   "metadata": {},
   "source": [
    "##### Prediction"
   ]
  },
  {
   "cell_type": "code",
   "execution_count": 8,
   "metadata": {},
   "outputs": [
    {
     "name": "stdout",
     "output_type": "stream",
     "text": [
      "0.7762\n"
     ]
    }
   ],
   "source": [
    "Z = model.predict(Xtest/255.)\n",
    "print(np.sum(Z.argmax(axis=1) == Ytest.argmax(axis=1))/len(Ytest)) # ความแม่นยำ\n",
    "# argmax หาว่าตัวใดมีค่ามากที่สุด"
   ]
  },
  {
   "cell_type": "code",
   "execution_count": 65,
   "metadata": {},
   "outputs": [
    {
     "name": "stdout",
     "output_type": "stream",
     "text": [
      "Predict :  [0.00918955 0.00686119 0.0147744  0.00718032 0.04174069 0.01333146\n",
      " 0.00648296 0.81012315 0.01623073 0.07408568]\n",
      "Max :  0.81012315\n",
      "Predict Ans :  [7] | Xtest :  7\n"
     ]
    },
    {
     "data": {
      "text/plain": [
       "<matplotlib.image.AxesImage at 0x1b1bc17e940>"
      ]
     },
     "execution_count": 65,
     "metadata": {},
     "output_type": "execute_result"
    },
    {
     "data": {
      "image/png": "[encoded data removed]",
      "text/plain": [
       "<Figure size 432x288 with 1 Axes>"
      ]
     },
     "metadata": {
      "needs_background": "light"
     },
     "output_type": "display_data"
    }
   ],
   "source": [
    "print('Predict : ',Z[0])\n",
    "print('Max : ',np.amax(Z[0]))\n",
    "print('Predict Ans : ',np.where(Z[0] == np.amax(Z[0]))[0],'| Xtest : ',Ytest[0])\n",
    "plt.imshow(de_Xtest[0],cmap='gray')"
   ]
  }
 ],
 "metadata": {
  "interpreter": {
   "hash": "8fac594bfae6525c0c41b4041d2d72effa188cc8ead05f81b1fab2bb098927fb"
  },
  "kernelspec": {
   "display_name": "Python 3.8.12 64-bit ('base': conda)",
   "language": "python",
   "name": "python3"
  },
  "language_info": {
   "codemirror_mode": {
    "name": "ipython",
    "version": 3
   },
   "file_extension": ".py",
   "mimetype": "text/x-python",
   "name": "python",
   "nbconvert_exporter": "python",
   "pygments_lexer": "ipython3",
   "version": "3.8.12"
  },
  "orig_nbformat": 4
 },
 "nbformat": 4,
 "nbformat_minor": 2
}
