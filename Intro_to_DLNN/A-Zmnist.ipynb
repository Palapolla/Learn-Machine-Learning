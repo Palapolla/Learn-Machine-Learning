{
 "cells": [
  {
   "cell_type": "markdown",
   "metadata": {},
   "source": [
    "# LeNet5 A-Z mnist"
   ]
  },
  {
   "cell_type": "markdown",
   "metadata": {},
   "source": [
    "##### Preprocess"
   ]
  },
  {
   "cell_type": "code",
   "execution_count": 1,
   "metadata": {},
   "outputs": [],
   "source": [
    "import tensorflow as tf\n",
    "import numpy as np\n",
    "import matplotlib.pyplot as plt"
   ]
  },
  {
   "cell_type": "code",
   "execution_count": 2,
   "metadata": {},
   "outputs": [],
   "source": [
    "import pandas as pd\n",
    "data = pd.read_csv(r'C:\\Users\\User\\Desktop\\DL_A-Zmnist\\Dataset\\handwritten_data_785.csv')\n",
    "data = data.to_numpy()\n"
   ]
  },
  {
   "cell_type": "markdown",
   "metadata": {},
   "source": [
    "Random 10% of data"
   ]
  },
  {
   "cell_type": "code",
   "execution_count": 3,
   "metadata": {},
   "outputs": [
    {
     "name": "stdout",
     "output_type": "stream",
     "text": [
      "260425\n"
     ]
    }
   ],
   "source": [
    "cut = np.random.permutation(np.arange(len(data)))\n",
    "split0 = data.shape[0] * 7//10\n",
    "idx = cut[:split0]\n",
    "data_suff = data[idx]\n",
    "del data\n",
    "print(len(data_suff))"
   ]
  },
  {
   "cell_type": "code",
   "execution_count": 4,
   "metadata": {},
   "outputs": [
    {
     "name": "stdout",
     "output_type": "stream",
     "text": [
      "(260425, 28, 28, 1)\n",
      "[ 0  4 19 ... 13 22  9]\n",
      "{0: 'A', 1: 'B', 2: 'C', 3: 'D', 4: 'E', 5: 'F', 6: 'G', 7: 'H', 8: 'I', 9: 'J', 10: 'K', 11: 'L', 12: 'M', 13: 'N', 14: 'O', 15: 'P', 16: 'Q', 17: 'R', 18: 'S', 19: 'T', 20: 'U', 21: 'V', 22: 'W', 23: 'X', 24: 'Y', 25: 'Z'}\n"
     ]
    }
   ],
   "source": [
    "import string\n",
    "X = data_suff[:,1:]\n",
    "Y = data_suff[:,0]\n",
    "nr_to_letter = {k:v.upper() for k,v in enumerate(list(string.ascii_lowercase))}\n",
    "X=X.reshape(len(X),28,28)\n",
    "X = X[:,:,:,None]\n",
    "print(X.shape)\n",
    "print(Y)\n",
    "print(nr_to_letter)"
   ]
  },
  {
   "cell_type": "code",
   "execution_count": 5,
   "metadata": {},
   "outputs": [
    {
     "data": {
      "image/png": "[encoded data removed]",
      "text/plain": [
       "<Figure size 432x288 with 10 Axes>"
      ]
     },
     "metadata": {
      "needs_background": "light"
     },
     "output_type": "display_data"
    }
   ],
   "source": [
    "n = 10\n",
    "for j,i in enumerate(np.random.choice(len(X),n)):\n",
    "    plt.subplot(1,n,j+1)\n",
    "    plt.imshow(X[i],cmap='gray')\n",
    "    plt.axis('off')\n",
    "plt.show()"
   ]
  },
  {
   "cell_type": "code",
   "execution_count": null,
   "metadata": {},
   "outputs": [],
   "source": [
    "X = tf.image.resize(X,[32,32])"
   ]
  },
  {
   "cell_type": "markdown",
   "metadata": {},
   "source": [
    "Split to 80% train and 20% test."
   ]
  },
  {
   "cell_type": "code",
   "execution_count": null,
   "metadata": {},
   "outputs": [],
   "source": [
    "idx = np.random.permutation(np.arange(len(X)))\n",
    "split = X.shape[0] * 8//10 # แบ่ง train 80 %\n",
    "train_idx = idx[:split]\n",
    "test_idx = idx[split:]\n",
    "Xtrain,Ytrain,Xtest,Ytest = [],[],[],[]\n",
    "for idx in train_idx:\n",
    "    Xtrain.append(X[idx]/255.)\n",
    "    Ytrain.append(Y[idx].astype(np.int))\n",
    "Xtrain = np.array(Xtrain)    \n",
    "for idx in test_idx:\n",
    "    Xtest.append(X[idx]/255.)\n",
    "    Ytest.append(Y[idx].astype(np.int))  \n",
    "Xtrain,Ytrain,Xtest,Ytest = np.array(Xtrain) ,np.array(Ytrain) ,np.array(Xtest) ,np.array(Ytest)      \n",
    "# Xtrain,Ytrain = X[train_idx]/255.,Y[train_idx].astype(np.int)\n",
    "# Xtest,Ytest = X[test_idx]/255.,Y[test_idx].astype(np.int)\n",
    "print(Xtrain.shape)\n",
    "print(Xtest.shape)"
   ]
  },
  {
   "cell_type": "code",
   "execution_count": null,
   "metadata": {},
   "outputs": [],
   "source": [
    "n = 10\n",
    "for j,i in enumerate(np.random.choice(len(Xtrain),n)):\n",
    "    plt.subplot(1,n,j+1)\n",
    "    plt.imshow(Xtrain[i],cmap='gray')\n",
    "    plt.axis('off')\n",
    "plt.show()"
   ]
  },
  {
   "cell_type": "markdown",
   "metadata": {},
   "source": [
    "##### Training"
   ]
  },
  {
   "cell_type": "code",
   "execution_count": null,
   "metadata": {},
   "outputs": [],
   "source": [
    "model = tf.keras.Sequential()\n",
    "model.add(tf.keras.layers.Conv2D(6,(5,5),input_shape=(32,32,1),activation='relu'))\n",
    "model.add(tf.keras.layers.MaxPool2D())\n",
    "model.add(tf.keras.layers.Conv2D(16,(5,5),activation='relu'))\n",
    "model.add(tf.keras.layers.MaxPool2D())\n",
    "model.add(tf.keras.layers.Flatten())\n",
    "# MLP\n",
    "model.add(tf.keras.layers.Dense(120,activation='relu'))\n",
    "model.add(tf.keras.layers.Dense(84,activation='relu'))\n",
    "model.add(tf.keras.layers.Dense(26,activation='softmax'))\n",
    "\n",
    "model.compile(loss='sparse_categorical_crossentropy',optimizer='sgd')"
   ]
  },
  {
   "cell_type": "code",
   "execution_count": null,
   "metadata": {},
   "outputs": [],
   "source": [
    "# model.summary()\n",
    "tf.keras.utils.plot_model(model,show_shapes=True)"
   ]
  },
  {
   "cell_type": "code",
   "execution_count": null,
   "metadata": {},
   "outputs": [],
   "source": [
    "model.fit(Xtrain,Ytrain,epochs=100)"
   ]
  },
  {
   "cell_type": "markdown",
   "metadata": {},
   "source": [
    "Save model as .pd file"
   ]
  },
  {
   "cell_type": "code",
   "execution_count": null,
   "metadata": {},
   "outputs": [],
   "source": [
    "model.save(r\"C:\\Users\\User\\Desktop\\Super_AI\\DL_NN\\DL_A-Zmnist\\Model\")\n",
    "\n",
    "loaded_model = tf.keras.models.load_model(r\"C:\\Users\\User\\Desktop\\Super_AI\\DL_NN\\DL_A-Zmnist\\Model\")"
   ]
  },
  {
   "cell_type": "markdown",
   "metadata": {},
   "source": [
    "##### Predict"
   ]
  },
  {
   "cell_type": "code",
   "execution_count": null,
   "metadata": {},
   "outputs": [],
   "source": [
    "Z = loaded_model.predict(Xtest)\n",
    "print('Performance ',np.sum(Z.argmax(axis=1)==Ytest)/len(Z))\n",
    "# history = model\n",
    "# plt.plot(history.history['loss'])\n",
    "# plt.xlabel('epoch')\n",
    "# plt.ylabel('loss')\n",
    "# plt.show()"
   ]
  },
  {
   "cell_type": "code",
   "execution_count": null,
   "metadata": {},
   "outputs": [],
   "source": [
    "n = 10\n",
    "print('Predict : ',Z[n])\n",
    "print('Max : ',np.amax(Z[n]))\n",
    "print('Predict index :',np.where(Z[n] == np.amax(Z[n]))[0],\n",
    "        '| Predict Answer :',nr_to_letter.get(np.where(Z[n] == np.amax(Z[n]))[0][0]),\n",
    "        '| Xtest :',Ytest[n])\n",
    "plt.imshow(Xtest[n],cmap='gray')"
   ]
  }
 ],
 "metadata": {
  "interpreter": {
   "hash": "8fac594bfae6525c0c41b4041d2d72effa188cc8ead05f81b1fab2bb098927fb"
  },
  "kernelspec": {
   "display_name": "Python 3.8.12 64-bit ('base': conda)",
   "language": "python",
   "name": "python3"
  },
  "language_info": {
   "codemirror_mode": {
    "name": "ipython",
    "version": 3
   },
   "file_extension": ".py",
   "mimetype": "text/x-python",
   "name": "python",
   "nbconvert_exporter": "python",
   "pygments_lexer": "ipython3",
   "version": "3.8.12"
  },
  "orig_nbformat": 4
 },
 "nbformat": 4,
 "nbformat_minor": 2
}
