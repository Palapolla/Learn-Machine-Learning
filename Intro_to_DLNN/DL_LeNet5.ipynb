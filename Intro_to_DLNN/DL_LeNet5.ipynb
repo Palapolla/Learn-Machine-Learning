{
 "cells": [
  {
   "cell_type": "markdown",
   "metadata": {},
   "source": [
    "# Deep Learning"
   ]
  },
  {
   "cell_type": "markdown",
   "metadata": {},
   "source": [
    "### LeNet5\n",
    "<br> The first CNN"
   ]
  },
  {
   "cell_type": "markdown",
   "metadata": {},
   "source": [
    "#### ขั้นตอนการเตรียมข้อมูล"
   ]
  },
  {
   "cell_type": "code",
   "execution_count": null,
   "metadata": {},
   "outputs": [],
   "source": [
    "import tensorflow as tf\n",
    "import numpy as np\n",
    "import matplotlib.pyplot as plt"
   ]
  },
  {
   "cell_type": "code",
   "execution_count": null,
   "metadata": {},
   "outputs": [],
   "source": [
    "(Xtrain,Ytrain),(Xtest,Ytest) = tf.keras.datasets.mnist.load_data()\n",
    "Xtrain = Xtrain[:,:,:,None]/255.\n",
    "Xtest = Xtest[:,:,:,None]/255.\n",
    "Xtrain = tf.image.resize(Xtrain,(32,32))\n",
    "Xtest =tf.image.resize(Xtest,(32,32))"
   ]
  },
  {
   "cell_type": "markdown",
   "metadata": {},
   "source": [
    "#### Training"
   ]
  },
  {
   "cell_type": "code",
   "execution_count": null,
   "metadata": {},
   "outputs": [],
   "source": [
    "\n",
    "model = tf.keras.Sequential()\n",
    "model.add(tf.keras.layers.Conv2D(6,(5,5),input_shape=(32,32,1),activation='relu'))\n",
    "model.add(tf.keras.layers.MaxPool2D())\n",
    "model.add(tf.keras.layers.Conv2D(16,(5,5),activation='relu'))\n",
    "model.add(tf.keras.layers.MaxPool2D())\n",
    "model.add(tf.keras.layers.Flatten())\n",
    "# MLP\n",
    "model.add(tf.keras.layers.Dense(120,activation='relu'))\n",
    "model.add(tf.keras.layers.Dense(84,activation='relu'))\n",
    "model.add(tf.keras.layers.Dense(10,activation='softmax'))\n",
    "\n",
    "model.compile(loss='sparse_categorical_crossentropy',optimizer='sgd')"
   ]
  },
  {
   "cell_type": "code",
   "execution_count": null,
   "metadata": {},
   "outputs": [],
   "source": [
    "model.summary()"
   ]
  },
  {
   "cell_type": "code",
   "execution_count": null,
   "metadata": {},
   "outputs": [],
   "source": [
    "tf.keras.utils.plot_model(model,show_shapes=True)"
   ]
  },
  {
   "cell_type": "code",
   "execution_count": 4,
   "metadata": {},
   "outputs": [
    {
     "name": "stdout",
     "output_type": "stream",
     "text": [
      "Epoch 1/50\n",
      "1875/1875 [==============================] - 30s 9ms/step - loss: 0.4710: 1s\n",
      "Epoch 2/50\n",
      "1875/1875 [==============================] - 9s 5ms/step - loss: 0.1230\n",
      "Epoch 3/50\n",
      "1875/1875 [==============================] - 9s 5ms/step - loss: 0.0876\n",
      "Epoch 4/50\n",
      "1875/1875 [==============================] - 8s 4ms/step - loss: 0.0711A: - ETA\n",
      "Epoch 5/50\n",
      "1875/1875 [==============================] - 8s 4ms/step - loss: 0.0610\n",
      "Epoch 6/50\n",
      "1875/1875 [==============================] - 9s 5ms/step - loss: 0.0539\n",
      "Epoch 7/50\n",
      "1875/1875 [==============================] - 11s 6ms/step - loss: 0.0473\n",
      "Epoch 8/50\n",
      "1875/1875 [==============================] - 10s 5ms/step - loss: 0.0427\n",
      "Epoch 9/50\n",
      "1875/1875 [==============================] - 10s 5ms/step - loss: 0.0390\n",
      "Epoch 10/50\n",
      "1875/1875 [==============================] - 9s 5ms/step - loss: 0.0356\n",
      "Epoch 11/50\n",
      "1875/1875 [==============================] - 9s 5ms/step - loss: 0.0327\n",
      "Epoch 12/50\n",
      "1875/1875 [==============================] - 9s 5ms/step - loss: 0.0297A: 0s - loss: 0\n",
      "Epoch 13/50\n",
      "1875/1875 [==============================] - 9s 5ms/step - loss: 0.0277\n",
      "Epoch 14/50\n",
      "1875/1875 [==============================] - 9s 5ms/step - loss: 0.0256\n",
      "Epoch 15/50\n",
      "1875/1875 [==============================] - 9s 5ms/step - loss: 0.0239\n",
      "Epoch 16/50\n",
      "1875/1875 [==============================] - ETA: 0s - loss: 0.021 - 14s 7ms/step - loss: 0.0217\n",
      "Epoch 17/50\n",
      "1875/1875 [==============================] - 11s 6ms/step - loss: 0.0208\n",
      "Epoch 18/50\n",
      "1875/1875 [==============================] - 9s 5ms/step - loss: 0.0190\n",
      "Epoch 19/50\n",
      "1875/1875 [==============================] - 9s 5ms/step - loss: 0.0174\n",
      "Epoch 20/50\n",
      "1875/1875 [==============================] - 9s 5ms/step - loss: 0.0168\n",
      "Epoch 21/50\n",
      "1875/1875 [==============================] - 9s 5ms/step - loss: 0.0152A: 0s - loss: 0.0\n",
      "Epoch 22/50\n",
      "1875/1875 [==============================] - 7s 4ms/step - loss: 0.0148A: 0s - \n",
      "Epoch 23/50\n",
      "1875/1875 [==============================] - 7s 4ms/step - loss: 0.0137\n",
      "Epoch 24/50\n",
      "1875/1875 [==============================] - 7s 4ms/step - loss: 0.0121\n",
      "Epoch 25/50\n",
      "1875/1875 [==============================] - 7s 4ms/step - loss: 0.0112A: 0s - loss: 0.011\n",
      "Epoch 26/50\n",
      "1875/1875 [==============================] - 7s 4ms/step - loss: 0.0105\n",
      "Epoch 27/50\n",
      "1875/1875 [==============================] - 7s 4ms/step - loss: 0.0095\n",
      "Epoch 28/50\n",
      "1875/1875 [==============================] - 7s 4ms/step - loss: 0.0093\n",
      "Epoch 29/50\n",
      "1875/1875 [==============================] - 7s 4ms/step - loss: 0.0084\n",
      "Epoch 30/50\n",
      "1875/1875 [==============================] - 7s 4ms/step - loss: 0.0085A: 0s - loss:\n",
      "Epoch 31/50\n",
      "1875/1875 [==============================] - 10s 5ms/step - loss: 0.0077\n",
      "Epoch 32/50\n",
      "1875/1875 [==============================] - 8s 4ms/step - loss: 0.0075\n",
      "Epoch 33/50\n",
      "1875/1875 [==============================] - 10s 5ms/step - loss: 0.0067\n",
      "Epoch 34/50\n",
      "1875/1875 [==============================] - 10s 5ms/step - loss: 0.0061\n",
      "Epoch 35/50\n",
      "1875/1875 [==============================] - 10s 5ms/step - loss: 0.0054\n",
      "Epoch 36/50\n",
      "1875/1875 [==============================] - 10s 5ms/step - loss: 0.0051\n",
      "Epoch 37/50\n",
      "1875/1875 [==============================] - 9s 5ms/step - loss: 0.0044\n",
      "Epoch 38/50\n",
      "1875/1875 [==============================] - 9s 5ms/step - loss: 0.0053\n",
      "Epoch 39/50\n",
      "1875/1875 [==============================] - 9s 5ms/step - loss: 0.0050\n",
      "Epoch 40/50\n",
      "1875/1875 [==============================] - 10s 5ms/step - loss: 0.0042\n",
      "Epoch 41/50\n",
      "1875/1875 [==============================] - 10s 5ms/step - loss: 0.0041\n",
      "Epoch 42/50\n",
      "1875/1875 [==============================] - 10s 6ms/step - loss: 0.0030\n",
      "Epoch 43/50\n",
      "1875/1875 [==============================] - 10s 5ms/step - loss: 0.0029\n",
      "Epoch 44/50\n",
      "1875/1875 [==============================] - 10s 5ms/step - loss: 0.0026\n",
      "Epoch 45/50\n",
      "1875/1875 [==============================] - 10s 6ms/step - loss: 0.0027\n",
      "Epoch 46/50\n",
      "1875/1875 [==============================] - 20s 11ms/step - loss: 0.0019 1s - ETA: 1s - loss: 0 - ETA: 1s - lo\n",
      "Epoch 47/50\n",
      "1875/1875 [==============================] - 32s 17ms/step - loss: 0.0017\n",
      "Epoch 48/50\n",
      "1875/1875 [==============================] - 12s 6ms/step - loss: 0.0024\n",
      "Epoch 49/50\n",
      "1875/1875 [==============================] - 11s 6ms/step - loss: 0.0018\n",
      "Epoch 50/50\n",
      "1875/1875 [==============================] - 6s 3ms/step - loss: 0.0015\n"
     ]
    },
    {
     "data": {
      "text/plain": [
       "<keras.callbacks.History at 0x1aa0585b370>"
      ]
     },
     "execution_count": 4,
     "metadata": {},
     "output_type": "execute_result"
    }
   ],
   "source": [
    "model.fit(Xtrain,Ytrain,epochs=50)"
   ]
  },
  {
   "cell_type": "markdown",
   "metadata": {},
   "source": [
    "#### Predict"
   ]
  },
  {
   "cell_type": "code",
   "execution_count": 7,
   "metadata": {},
   "outputs": [
    {
     "name": "stdout",
     "output_type": "stream",
     "text": [
      "0.9888\n"
     ]
    }
   ],
   "source": [
    "Z = model.predict(Xtest)\n",
    "print(np.sum(Z.argmax(axis=1)==Ytest)/len(Z))"
   ]
  }
 ],
 "metadata": {
  "interpreter": {
   "hash": "8fac594bfae6525c0c41b4041d2d72effa188cc8ead05f81b1fab2bb098927fb"
  },
  "kernelspec": {
   "display_name": "Python 3.8.12 64-bit ('base': conda)",
   "language": "python",
   "name": "python3"
  },
  "language_info": {
   "codemirror_mode": {
    "name": "ipython",
    "version": 3
   },
   "file_extension": ".py",
   "mimetype": "text/x-python",
   "name": "python",
   "nbconvert_exporter": "python",
   "pygments_lexer": "ipython3",
   "version": "3.8.12"
  },
  "orig_nbformat": 4
 },
 "nbformat": 4,
 "nbformat_minor": 2
}
