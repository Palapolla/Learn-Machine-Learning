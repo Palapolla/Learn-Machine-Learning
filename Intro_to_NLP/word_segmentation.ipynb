{
 "cells": [
  {
   "cell_type": "code",
   "execution_count": 16,
   "metadata": {},
   "outputs": [],
   "source": [
    "from pythainlp import word_tokenize"
   ]
  },
  {
   "cell_type": "code",
   "execution_count": 17,
   "metadata": {},
   "outputs": [],
   "source": [
    "text = \"ก็จะรู้ความชั่วร้ายที่ทำไว้   และคงจะยอมให้ทำนาบนหลังคน\"\n",
    "# text = \"แบงงค์สีน้ำตาลบริการได้กาาากกมากกกกคนับ\""
   ]
  },
  {
   "cell_type": "code",
   "execution_count": 18,
   "metadata": {},
   "outputs": [
    {
     "name": "stdout",
     "output_type": "stream",
     "text": [
      "['ก็', 'จะ', 'รู้ความ', 'ชั่วร้าย', 'ที่', 'ทำ', 'ไว้', ' ', ' ', ' ', 'และ', 'คงจะ', 'ยอมให้', 'ทำนาบนหลังคน']\n",
      "['ก็', 'จะ', 'รู้ความ', 'ชั่วร้าย', 'ที่', 'ทำ', 'ไว้', '   ', 'และ', 'คงจะ', 'ยอมให้', 'ทำนาบนหลังคน']\n",
      "['ก็', 'จะ', 'รู้ความ', 'ชั่วร้าย', 'ที่', 'ทำ', 'ไว้', '   ', 'และ', 'คงจะ', 'ยอมให้', 'ทำนาบนหลังคน']\n",
      "['ก็', 'จะ', 'รู้ความ', 'ชั่วร้าย', 'ที่', 'ทำ', 'ไว้', '   ', 'และ', 'คงจะ', 'ยอมให้', 'ทำนาบนหลังคน']\n",
      "['ก็', 'จะ', 'รู้', 'ความ', 'ชั่ว', 'ร้าย', 'ที่', 'ทำ', 'ไว้', '   ', 'และ', 'คงจะ', 'ยอม', 'ให้', 'ทำ', 'นา', 'บน', 'หลัง', 'คน']\n"
     ]
    }
   ],
   "source": [
    "print(word_tokenize(text,engine=\"longest\"))\n",
    "print(word_tokenize(text,engine=\"mm\"))  # maximum matching\n",
    "print(word_tokenize(text,engine=\"newmm\"))    # maximum matching\n",
    "print(word_tokenize(text,engine=\"newmm-safe\"))   # maximum matching\n",
    "print(word_tokenize(text,engine=\"icu\"))"
   ]
  },
  {
   "cell_type": "code",
   "execution_count": 19,
   "metadata": {},
   "outputs": [
    {
     "name": "stdout",
     "output_type": "stream",
     "text": [
      "['ก็', 'จะ', 'รู้', 'ความ', 'ชั่วร้าย', 'ที่', 'ทำ', 'ไว้', ' ', ' ', ' ', 'และ', 'คง', 'จะ', 'ยอม', 'ให้', 'ทำ', 'นา', 'บน', 'หลังคน']\n",
      "['ก็', 'จะ', 'รู้ความ', 'ชั่วร้าย', 'ที่', 'ทำ', 'ไว้', '   ', 'และ', 'คงจะ', 'ยอมให้', 'ทำนาบนหลังคน']\n"
     ]
    }
   ],
   "source": [
    "print(word_tokenize(text,engine=\"deepcut\")) # CNN\n",
    "print(word_tokenize(text,engine=\"attacut\")) # CNN"
   ]
  },
  {
   "cell_type": "code",
   "execution_count": null,
   "metadata": {},
   "outputs": [],
   "source": [
    "%%timeit\n",
    "print(word_tokenize(text,engine=\"longest\"))\n",
    "# 1.51 ms ± 124 µs per loop (mean ± std. dev. of 7 runs, 1000 loops each)"
   ]
  },
  {
   "cell_type": "code",
   "execution_count": null,
   "metadata": {},
   "outputs": [],
   "source": [
    "%%timeit\n",
    "print(word_tokenize(text,engine=\"deepcut\"))\n",
    "# 83.9 ms ± 4.2 ms per loop (mean ± std. dev. of 7 runs, 10 loops each)"
   ]
  },
  {
   "cell_type": "code",
   "execution_count": null,
   "metadata": {},
   "outputs": [],
   "source": [
    "%%timeit\n",
    "print(word_tokenize(text,engine=\"auttacut\"))\n",
    "# 376 µs ± 37.4 µs per loop (mean ± std. dev. of 7 runs, 1000 loops each)"
   ]
  }
 ],
 "metadata": {
  "interpreter": {
   "hash": "f08154012ddadd8e950e6e9e035c7a7b32c136e7647e9b7c77e02eb723a8bedb"
  },
  "kernelspec": {
   "display_name": "Python 3.8.12 ('base')",
   "language": "python",
   "name": "python3"
  },
  "language_info": {
   "codemirror_mode": {
    "name": "ipython",
    "version": 3
   },
   "file_extension": ".py",
   "mimetype": "text/x-python",
   "name": "python",
   "nbconvert_exporter": "python",
   "pygments_lexer": "ipython3",
   "version": "3.8.12"
  },
  "orig_nbformat": 4
 },
 "nbformat": 4,
 "nbformat_minor": 2
}
