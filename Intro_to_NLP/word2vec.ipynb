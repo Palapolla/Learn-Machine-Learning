{
 "cells": [
  {
   "cell_type": "code",
   "execution_count": 9,
   "metadata": {},
   "outputs": [],
   "source": [
    "# Data from https://www.dropbox.com/s/fsxepdka4l2pr45/prachathai-67k.zip"
   ]
  },
  {
   "cell_type": "code",
   "execution_count": 10,
   "metadata": {},
   "outputs": [],
   "source": [
    "import pandas as pd\n"
   ]
  },
  {
   "cell_type": "code",
   "execution_count": 11,
   "metadata": {},
   "outputs": [
    {
     "name": "stdout",
     "output_type": "stream",
     "text": [
      "(67889, 5)\n"
     ]
    },
    {
     "data": {
      "text/html": [
       "<div>\n",
       "<style scoped>\n",
       "    .dataframe tbody tr th:only-of-type {\n",
       "        vertical-align: middle;\n",
       "    }\n",
       "\n",
       "    .dataframe tbody tr th {\n",
       "        vertical-align: top;\n",
       "    }\n",
       "\n",
       "    .dataframe thead th {\n",
       "        text-align: right;\n",
       "    }\n",
       "</style>\n",
       "<table border=\"1\" class=\"dataframe\">\n",
       "  <thead>\n",
       "    <tr style=\"text-align: right;\">\n",
       "      <th></th>\n",
       "      <th>url</th>\n",
       "      <th>date</th>\n",
       "      <th>title</th>\n",
       "      <th>body_text</th>\n",
       "      <th>labels</th>\n",
       "    </tr>\n",
       "  </thead>\n",
       "  <tbody>\n",
       "    <tr>\n",
       "      <th>0</th>\n",
       "      <td>https://prachatai.com/print/42</td>\n",
       "      <td>2004-08-24 14:31</td>\n",
       "      <td>นักวิจัยหนุน  \"แม้ว\"  เปิด  \"จีเอ็มโอ\"</td>\n",
       "      <td>ประชาไท --- 23 ส.ค.2547  นักวิจัยฯ ชี้นโยบายจี...</td>\n",
       "      <td>['ข่าว', 'สิ่งแวดล้อม']</td>\n",
       "    </tr>\n",
       "    <tr>\n",
       "      <th>1</th>\n",
       "      <td>https://prachatai.com/print/41</td>\n",
       "      <td>2004-08-24 14:22</td>\n",
       "      <td>ภาคประชาชนต้านเปิดเสรีจีเอ็มโอ</td>\n",
       "      <td>ประชาไท- 23 ส.ค.2547   นักวิชาการ ภาคประชาชน จ...</td>\n",
       "      <td>['ข่าว', 'สิ่งแวดล้อม']</td>\n",
       "    </tr>\n",
       "    <tr>\n",
       "      <th>2</th>\n",
       "      <td>https://prachatai.com/print/43</td>\n",
       "      <td>2004-08-24 15:17</td>\n",
       "      <td>จุฬาฯ ห่วงจีเอ็มโอลามข้าวไทย</td>\n",
       "      <td>นโยบายที่อนุญาตให้ปลูกร่วมกับพืชอื่นได้นั้นถื...</td>\n",
       "      <td>['ข่าว', 'สิ่งแวดล้อม']</td>\n",
       "    </tr>\n",
       "    <tr>\n",
       "      <th>3</th>\n",
       "      <td>https://prachatai.com/print/45</td>\n",
       "      <td>2004-08-24 15:58</td>\n",
       "      <td>ฟองสบู่การเมืองแตก ทักษิณหมดกึ๋น ชนชั้นกลางหมด...</td>\n",
       "      <td>ประชาไท -- 23 ส.ค. 47  ขาประจำทักษิณ ฟันธง ฟอง...</td>\n",
       "      <td>['ข่าว', 'การเมือง', 'คณะเศรษฐศาสตร์ มหาวิทยาล...</td>\n",
       "    </tr>\n",
       "    <tr>\n",
       "      <th>4</th>\n",
       "      <td>https://prachatai.com/print/47</td>\n",
       "      <td>2004-08-24 16:10</td>\n",
       "      <td>กอต.เสนอเลิกถนนคลองลาน-อุ้มผาง</td>\n",
       "      <td>ประชาไท-23 ส.ค.47  คณะกรรมการอนุรักษ์ ผืนป่าตะ...</td>\n",
       "      <td>['ข่าว', 'สิ่งแวดล้อม']</td>\n",
       "    </tr>\n",
       "  </tbody>\n",
       "</table>\n",
       "</div>"
      ],
      "text/plain": [
       "                              url              date  \\\n",
       "0  https://prachatai.com/print/42  2004-08-24 14:31   \n",
       "1  https://prachatai.com/print/41  2004-08-24 14:22   \n",
       "2  https://prachatai.com/print/43  2004-08-24 15:17   \n",
       "3  https://prachatai.com/print/45  2004-08-24 15:58   \n",
       "4  https://prachatai.com/print/47  2004-08-24 16:10   \n",
       "\n",
       "                                               title  \\\n",
       "0             นักวิจัยหนุน  \"แม้ว\"  เปิด  \"จีเอ็มโอ\"   \n",
       "1                     ภาคประชาชนต้านเปิดเสรีจีเอ็มโอ   \n",
       "2                       จุฬาฯ ห่วงจีเอ็มโอลามข้าวไทย   \n",
       "3  ฟองสบู่การเมืองแตก ทักษิณหมดกึ๋น ชนชั้นกลางหมด...   \n",
       "4                     กอต.เสนอเลิกถนนคลองลาน-อุ้มผาง   \n",
       "\n",
       "                                           body_text  \\\n",
       "0  ประชาไท --- 23 ส.ค.2547  นักวิจัยฯ ชี้นโยบายจี...   \n",
       "1  ประชาไท- 23 ส.ค.2547   นักวิชาการ ภาคประชาชน จ...   \n",
       "2   นโยบายที่อนุญาตให้ปลูกร่วมกับพืชอื่นได้นั้นถื...   \n",
       "3  ประชาไท -- 23 ส.ค. 47  ขาประจำทักษิณ ฟันธง ฟอง...   \n",
       "4  ประชาไท-23 ส.ค.47  คณะกรรมการอนุรักษ์ ผืนป่าตะ...   \n",
       "\n",
       "                                              labels  \n",
       "0                            ['ข่าว', 'สิ่งแวดล้อม']  \n",
       "1                            ['ข่าว', 'สิ่งแวดล้อม']  \n",
       "2                            ['ข่าว', 'สิ่งแวดล้อม']  \n",
       "3  ['ข่าว', 'การเมือง', 'คณะเศรษฐศาสตร์ มหาวิทยาล...  \n",
       "4                            ['ข่าว', 'สิ่งแวดล้อม']  "
      ]
     },
     "execution_count": 11,
     "metadata": {},
     "output_type": "execute_result"
    }
   ],
   "source": [
    "prachathai = pd.read_csv('prachathai-67k\\prachathai-67k.csv')\n",
    "print(prachathai.shape)\n",
    "prachathai.head()"
   ]
  },
  {
   "cell_type": "code",
   "execution_count": 12,
   "metadata": {},
   "outputs": [],
   "source": [
    "from pythainlp.tokenize import word_tokenize\n"
   ]
  },
  {
   "cell_type": "markdown",
   "metadata": {},
   "source": [
    "ตัดคำ"
   ]
  },
  {
   "cell_type": "code",
   "execution_count": 13,
   "metadata": {},
   "outputs": [],
   "source": [
    "sentences = [word_tokenize(text,engine='newmm') for text in prachathai['body_text'].tolist()]"
   ]
  },
  {
   "cell_type": "code",
   "execution_count": 14,
   "metadata": {},
   "outputs": [],
   "source": [
    "try:\n",
    "    dict = {'sentences':sentences}  \n",
    "    df = pd.DataFrame(dict) \n",
    "    # saving the dataframe \n",
    "    df.to_csv('sentences.csv') \n",
    "except:\n",
    "    pass"
   ]
  },
  {
   "cell_type": "code",
   "execution_count": 15,
   "metadata": {},
   "outputs": [
    {
     "data": {
      "text/plain": [
       "[' ',\n",
       " '\"',\n",
       " 'นคร',\n",
       " ' ',\n",
       " 'ชม',\n",
       " 'ภู',\n",
       " 'ชาติ',\n",
       " ' ',\n",
       " 'จาก',\n",
       " 'สภา',\n",
       " 'ทนายความ',\n",
       " ' ',\n",
       " 'ใน',\n",
       " 'ฐานะ',\n",
       " 'ทนายความ',\n",
       " 'ของ',\n",
       " 'น.ส.',\n",
       " 'สุ',\n",
       " 'ภิญญา',\n",
       " '  ',\n",
       " 'กลาง',\n",
       " 'ณรงค์',\n",
       " '\"',\n",
       " '    ',\n",
       " '\\n',\n",
       " 'คดี',\n",
       " 'ที่',\n",
       " 'ฟ้อง',\n",
       " 'ทาง',\n",
       " 'แพ่ง',\n",
       " 'ครั้งนี้',\n",
       " 'มี',\n",
       " 'เนื้อ',\n",
       " 'ความเหมือน',\n",
       " 'คดีอาญา',\n",
       " 'ที่',\n",
       " 'เคย',\n",
       " 'ถูก',\n",
       " 'ฟ้อง',\n",
       " 'มา',\n",
       " 'แล้ว',\n",
       " 'ก่อนหน้านี้',\n",
       " 'แต่',\n",
       " 'เป็นการ',\n",
       " 'เรียกค่าเสียหาย',\n",
       " 'เพิ่มเติม',\n",
       " 'โดย',\n",
       " 'โจทก์',\n",
       " 'ระบุ',\n",
       " 'สาเหตุ',\n",
       " 'ของ',\n",
       " 'ความเสียหาย',\n",
       " 'ว่า',\n",
       " 'มาจาก',\n",
       " ' ',\n",
       " '4',\n",
       " ' ',\n",
       " 'ข้อ',\n",
       " ' ',\n",
       " 'ข้อ',\n",
       " 'ละ',\n",
       " ' ',\n",
       " '100',\n",
       " ' ',\n",
       " 'ล้าน',\n",
       " 'บาท',\n",
       " ' ',\n",
       " 'คือ',\n",
       " '    ',\n",
       " '\\n',\n",
       " '1.',\n",
       " 'ทำให้',\n",
       " 'โจทก์',\n",
       " 'ซึ่ง',\n",
       " 'ประกอบ',\n",
       " 'กิจการ',\n",
       " 'โดยเฉพาะ',\n",
       " 'โทรคมนาคม',\n",
       " 'ที่',\n",
       " 'มีชื่อเสียง',\n",
       " 'มาโดยตลอด',\n",
       " 'ต้อง',\n",
       " 'ได้รับ',\n",
       " 'ความเสียหาย',\n",
       " ' ',\n",
       " 'เสียชื่อเสียง',\n",
       " ' ',\n",
       " 'เกียรติคุณ',\n",
       " '     ',\n",
       " '\\n',\n",
       " '2.',\n",
       " 'จำเลย',\n",
       " 'ทำให้',\n",
       " 'โจทก์',\n",
       " 'เสียหาย',\n",
       " 'ใน',\n",
       " 'ทาง',\n",
       " 'ทำ',\n",
       " 'กิน',\n",
       " ' ',\n",
       " 'รวมทั้ง',\n",
       " 'ทาง',\n",
       " 'เจริญเติบโต',\n",
       " 'ของ',\n",
       " 'ธุรกิจ',\n",
       " ' ',\n",
       " 'ที่',\n",
       " 'คาด',\n",
       " 'ว่า',\n",
       " 'จะ',\n",
       " 'มี',\n",
       " 'ความเจริญ',\n",
       " 'อย่างต่อเนื่อง',\n",
       " 'เพราะ',\n",
       " 'ผู้ใช้บริการ',\n",
       " 'ขาด',\n",
       " 'ความไว้วางใจ',\n",
       " '   ',\n",
       " '\\n',\n",
       " '3.',\n",
       " 'โจทก์',\n",
       " 'อ้างว่า',\n",
       " 'เลขาฯ',\n",
       " 'ค',\n",
       " 'ปส.',\n",
       " 'ทำให้',\n",
       " 'กิจการ',\n",
       " 'ที่อยู่',\n",
       " 'ใน',\n",
       " 'ตลาดหลักทรัพย์',\n",
       " 'ที่',\n",
       " 'มี',\n",
       " 'กำไร',\n",
       " 'มาโดยตลอด',\n",
       " 'ต้อง',\n",
       " 'เสียหาย',\n",
       " 'ถูก',\n",
       " 'คณะกรรมการ',\n",
       " 'กำกับ',\n",
       " 'ตลอด',\n",
       " 'หลักทรัพย์',\n",
       " 'เรียก',\n",
       " 'ไป',\n",
       " 'ตรวจสอบ',\n",
       " 'จน',\n",
       " 'ทำให้',\n",
       " 'มูลค่า',\n",
       " 'หุ้น',\n",
       " 'ลดน้อยลง',\n",
       " 'ทำให้',\n",
       " 'โจทก์',\n",
       " 'ต้อง',\n",
       " 'ชี้แจง',\n",
       " 'และ',\n",
       " 'ประกาศ',\n",
       " 'โฆษณา',\n",
       " 'กับ',\n",
       " 'นักลงทุน',\n",
       " ' ',\n",
       " 'และ',\n",
       " '    ',\n",
       " '\\n',\n",
       " '4.',\n",
       " 'โจทก์',\n",
       " 'อ้างว่า',\n",
       " 'ได้รับ',\n",
       " 'ความเสียหาย',\n",
       " 'ใน',\n",
       " 'ด้าน',\n",
       " 'ความน่าเชื่อถือ',\n",
       " 'ใน',\n",
       " 'การ',\n",
       " 'ระดมทุน',\n",
       " 'จาก',\n",
       " 'ที่',\n",
       " 'เคย',\n",
       " 'มี',\n",
       " 'ฐานะ',\n",
       " 'ที่',\n",
       " 'มั่นคง',\n",
       " ' ',\n",
       " 'แต่',\n",
       " 'ปัจจุบัน',\n",
       " 'โจทก์',\n",
       " 'ต้อง',\n",
       " 'ถูก',\n",
       " 'ทบทวน',\n",
       " 'เครดิต',\n",
       " '   ',\n",
       " '\\n',\n",
       " 'ขณะที่',\n",
       " 'ผม',\n",
       " 'ยัง',\n",
       " 'ไม่',\n",
       " 'สามารถ',\n",
       " 'พูด',\n",
       " 'ได้',\n",
       " 'ว่า',\n",
       " 'ใคร',\n",
       " 'เป็น',\n",
       " 'ฝ่าย',\n",
       " 'ผิด',\n",
       " 'หรือ',\n",
       " 'ถูก',\n",
       " 'และ',\n",
       " 'ไม่ต้องการ',\n",
       " 'สร้าง',\n",
       " 'กระแส',\n",
       " 'กดดัน',\n",
       " 'การพิจารณา',\n",
       " 'ของ',\n",
       " 'ศาล',\n",
       " ' ',\n",
       " 'แต่',\n",
       " 'ค',\n",
       " 'ปส.',\n",
       " 'เอง',\n",
       " 'สามารถ',\n",
       " 'ยืนยัน',\n",
       " 'เจตนา',\n",
       " 'ว่า',\n",
       " 'การกระทำ',\n",
       " 'ทั้งหมด',\n",
       " 'ไม่ใช่',\n",
       " 'ต้องการ',\n",
       " 'มุ่งหวัง',\n",
       " 'กับ',\n",
       " 'ตัว',\n",
       " 'บุคคล',\n",
       " 'ใด',\n",
       " 'โดยเฉพาะ',\n",
       " 'แต่',\n",
       " 'เป็นเรื่อง',\n",
       " 'ที่',\n",
       " 'ปรากฎ',\n",
       " 'ใน',\n",
       " 'สังคม',\n",
       " 'ว่า',\n",
       " 'มี',\n",
       " 'กลุ่ม',\n",
       " 'ธุรกิจ',\n",
       " 'โทรคมนาคม',\n",
       " ' ',\n",
       " 'กับ',\n",
       " 'นักการเมือง',\n",
       " 'ใหญ่',\n",
       " 'มีเรื่อง',\n",
       " 'ผลประโยชน์',\n",
       " 'ทับซ้อน',\n",
       " 'ซึ่ง',\n",
       " 'ประชาชน',\n",
       " 'ก็',\n",
       " 'รับรู้',\n",
       " 'และ',\n",
       " 'กระบวนการ',\n",
       " 'ตรวจสอบ',\n",
       " 'ก็',\n",
       " 'เป็น',\n",
       " 'สิทธิ',\n",
       " 'เสรีภาพ',\n",
       " 'พื้นฐาน',\n",
       " 'ของ',\n",
       " 'ประชาชน',\n",
       " 'ตาม',\n",
       " 'รัฐธรรมนูญ',\n",
       " '   ',\n",
       " '\\n',\n",
       " ' ',\n",
       " 'ถ้า',\n",
       " 'โจทก์',\n",
       " 'ไม่เข้าใจ',\n",
       " 'เจตนา',\n",
       " 'นี้',\n",
       " 'เมื่อ',\n",
       " 'เห็น',\n",
       " 'ข่าว',\n",
       " 'บน',\n",
       " 'หน้า',\n",
       " 'หนังสือพิมพ์',\n",
       " 'ก็',\n",
       " 'สามารถ',\n",
       " 'สอบทาน',\n",
       " 'เพื่อ',\n",
       " 'ทำความเข้าใจ',\n",
       " 'ให้',\n",
       " 'ชัดเจน',\n",
       " 'กับ',\n",
       " 'น.ส.',\n",
       " 'สุ',\n",
       " 'ภิญญา',\n",
       " ' ',\n",
       " 'ได้',\n",
       " 'โดยตรง',\n",
       " ' ',\n",
       " 'ซึ่ง',\n",
       " 'จะ',\n",
       " 'ทำให้',\n",
       " 'ไม่',\n",
       " 'เกิด',\n",
       " 'ปัญหา',\n",
       " 'แต่',\n",
       " 'ในความเป็นจริง',\n",
       " 'น.ส.',\n",
       " 'สุ',\n",
       " 'ภิญญา',\n",
       " ' ',\n",
       " 'ไม่เคย',\n",
       " 'ได้รับ',\n",
       " 'การ',\n",
       " 'ติดต่อ',\n",
       " 'แต่อย่างใด',\n",
       " ' ',\n",
       " 'มา',\n",
       " 'รู้ตัว',\n",
       " 'อีกครั้ง',\n",
       " 'ก็',\n",
       " 'ถูก',\n",
       " 'ฟ้อง',\n",
       " 'แล้ว',\n",
       " ' ',\n",
       " 'ทำให้',\n",
       " 'เป็น',\n",
       " 'เรื่องราว',\n",
       " 'ใหญ่โต',\n",
       " ' ',\n",
       " 'และ',\n",
       " 'ยุ่งยาก',\n",
       " 'ซึ่ง',\n",
       " 'สุดท้าย',\n",
       " 'ก็',\n",
       " 'ยัง',\n",
       " 'ไม่รู้',\n",
       " 'ว่า',\n",
       " 'คดี',\n",
       " 'จะ',\n",
       " 'จบ',\n",
       " 'อย่างไร',\n",
       " '   ',\n",
       " '\\n',\n",
       " '  ',\n",
       " 'รายงาน',\n",
       " 'โดย',\n",
       " ' ',\n",
       " ':',\n",
       " ' ',\n",
       " 'ศูนย์ข่าว',\n",
       " 'ประชา',\n",
       " 'ไท',\n",
       " ' ',\n",
       " '\\n']"
      ]
     },
     "execution_count": 15,
     "metadata": {},
     "output_type": "execute_result"
    }
   ],
   "source": [
    "sentences[20]"
   ]
  },
  {
   "cell_type": "markdown",
   "metadata": {},
   "source": [
    "เตรียม word2Vec"
   ]
  },
  {
   "cell_type": "code",
   "execution_count": 16,
   "metadata": {},
   "outputs": [],
   "source": [
    "from gensim.models import word2vec\n",
    "import numpy as np\n",
    "import matplotlib.pyplot as plt\n",
    "import matplotlib.font_manager as font_manager"
   ]
  },
  {
   "cell_type": "code",
   "execution_count": 17,
   "metadata": {},
   "outputs": [
    {
     "name": "stdout",
     "output_type": "stream",
     "text": [
      "[['ประชา', 'ไท', ' ', '---', ' ', '23', ' ', 'ส.ค.', '2547', '  ', 'นักวิจัย', 'ฯ', ' ', 'ชี้', 'นโยบาย', 'จีเอ็มโอ', 'เอื้อ', 'ต่อ', 'การค้นคว้าวิจัย', ' ', 'แต่', 'ไม่ใช่', 'คำตอบ', 'ทั้งหมด', ' ', 'ขณะที่', 'ผอ.', 'สวทช.', 'ระบุ', 'มาตรการ', 'ตรวจสอบ', 'ความปลอดภัย', 'มี', 'มา', 'ก่อน', 'การ', 'กำหนด', 'นโยบาย', 'ของ', 'รัฐบาล', ' ', 'เพียงแต่', 'ทบทวน', 'และ', 'ปรับปรุง', 'เพิ่มเติม', '  ', '\\n', 'สำนักงาน', 'พัฒนา', 'วิทยาศาสตร์', 'และ', 'เทคโนโลยี', '  ', 'จัด', 'สัมมนา', 'เกี่ยวกับ', 'มะละกอ', 'ดัดแปลง', 'พันธุกรรม', 'ใน', 'ประเทศไทย', ' ', 'มี', 'นักวิชาการ', ' ', 'นักวิจัย', 'จาก', 'กรมวิชาการเกษตร', '  ', 'มหาวิทยาลัยเกษตรศาสตร์', '  ', 'และ', 'มหาวิทยาลัยมหิดล', 'เข้าร่วม', '  ', 'โดย', 'มี', 'การ', 'นำเสนอ', 'ผลการศึกษา', 'ทดลอง', 'ที่ผ่านมา', '  ', 'ซึ่ง', 'พบ', 'ว่า', 'มะละกอ', '\\n', 'จีเอ็มโอ', 'ผ่านการทดสอบ', 'ความปลอดภัย', 'ทาง', 'ชีวภาพ', 'สิ่งแวดล้อม', 'และ', 'อาหาร', 'ระดับ', 'หนึ่ง', 'เท่านั้น', '    ', '\\n', ' ', '\"', 'การค้นคว้าวิจัย', 'มะละกอ', 'จีเอ็มโอ', 'รวมถึง', 'พืช', 'ชนิด', 'อื่นๆ', ' ', 'ต้อง', 'ทำ', 'ทั้ง', 'ใน', 'โรงเรือน', 'ปิด', ' ', 'แปลง', 'ทดลอง', ' ', 'รวมทั้ง', 'ใน', 'ระดับ', 'ไร่นา', '  ', 'แต่', 'ที่ผ่านมา', 'ทำได้', 'แค่', 'สอง', 'ระดับ', '  ', 'ซึ่ง', 'ถือว่า', ' ', 'ถูกต้อง', 'แล้ว', 'ที่', 'มี', 'นโยบาย', 'ใหม่', 'นี้', 'ออกมา', 'เป็นการ', 'เปิดโอกาส', 'ให้', 'ทำ', 'การทด', 'ลองใน', 'ระดับ', 'ไร่นา', ' ', '\"', 'ผศ.', 'พิสส', 'วรรณ', ' ', 'เจียม', 'สมบัติ', ' ', 'จาก', 'หน่วย', 'ปฏิบัติการ', 'พันธุวิศวกรรม', 'ด้าน', 'พืช', ' ', 'มหาวิทยาลัยเกษตรศาสตร์', 'กล่าว', '    ', '\\n', 'น.ส.', 'สุ', 'ณี', ' ', 'เกิด', 'บัณฑิต', ' ', 'นักวิชาการ', 'จาก', 'สถาบัน', 'อณู', 'ชีววิทยา', 'และ', 'พันธุศาสตร์', '  ', 'มหาวิทยาลัยมหิดล', 'กล่าวว่า', ' ', 'การพัฒนา', 'เทคโนโลยี', 'การตัดต่อ', 'พันธุกรรม', 'นี้', 'มีประโยชน์', 'ใน', 'หลาย', 'ด้าน', '  ', 'แต่', 'ก็', 'ไม่ใช่', 'ออ', 'ล', 'อิน', 'วัน', '  ', 'เพราะ', 'เมื่อ', 'ออกมา', 'แล้ว', 'อาจจะ', 'ต้านทาน', 'ไวรัส', 'ได้ตัว', 'หนึ่ง', '  ', 'แต่', 'ก็', 'ไม่', 'สามารถ', 'ต้านทาน', 'ไวรัส', 'สายพันธุ์', 'อื่นๆ', 'ได้', '  ', 'นอกจากนั้น', 'ต้อง', 'ใช้', 'งบประมาณ', 'มหาศาล', '  ', 'และ', 'ใช้', 'ระยะเวลา', 'ใน', 'การศึกษา', 'วิจัย', 'ค่อนข้าง', 'ยาวนาน', '   ', '\\n', 'รศ.', 'ศักรินทร์', ' ', 'ภูมิ', 'รัตน', ' ', 'ผู้อำนวยการ', 'สำนักงาน', 'พัฒนา', 'วิทยาศาสตร์', 'และ', 'เทคโนโลยี', 'แห่ง', 'ประเทศไทย', ' ', '(', 'สวทช.', ')', ' ', 'กล่าวว่า', '  ', 'นโยบาย', 'ของ', 'รัฐ', 'ที่', 'ออกมา', 'เท่ากับ', 'เป็นการ', 'ยอมรับ', 'ให้', 'มี', 'การพัฒนา', 'จีเอ็มโอ', 'ใน', 'ประเทศไทย', '  ', 'โดย', 'มี', 'การประเมินผล', 'ความปลอดภัย', 'ที่', 'รัดกุม', '  ', 'ซึ่ง', 'มาตรการ', 'ดังกล่าว', 'มี', 'มา', 'ก่อนที่', 'รัฐบาล', 'จะ', 'กำหนด', 'นโยบาย', 'ใหม่', 'นี้', '  ', 'เพียงแต่', 'เมื่อ', 'กำหนด', 'นโยบาย', 'ออกมา', 'ชัดเจน', 'ก็', 'ต้อง', 'มี', 'การ', 'กลับ', 'ไป', 'ทบทวน', 'และ', 'ปรับปรุง', 'เพิ่มเติม', '  ', 'โดย', 'เส', 'นอกรอบ', 'เวลา', 'ไว้', ' ', '3', ' ', 'เดือน', 'ซึ่ง', 'คิด', 'ว่า', 'เพียงพอ', '     ', '\\n', 'นาย', 'รุจ', '  ', 'วัล', 'ยะ', 'เส', 'วี', '  ', 'ประธาน', 'คณะทำงาน', 'เพื่อ', 'ประเมิน', 'ความปลอดภัย', 'ทาง', 'ชีวภาพ', 'ของ', 'มะละกอ', 'ดัดแปลง', 'พันธุกรรม', 'กล่าวว่า', '  ', 'ขณะนี้', 'คณะทำงาน', 'ฯ', 'กำลัง', 'ติดตาม', 'การ', 'ทดสอบ', 'ความทนทาน', 'ของ', 'มะละกอ', 'ต่อ', 'โรค', 'ใบ', 'ด่าง', 'วงแหวน', 'ซึ่ง', 'เป็น', 'โรคระบาด', 'ที่', 'สร้าง', 'ความเสียหาย', 'หนักหน่วง', 'อยู่', '  ', 'โดย', 'คณะทำงาน', 'เพื่อ', 'ประเมิน', 'ความปลอดภัย', 'นี้', 'จะ', 'แบ่ง', 'เป็น', 'หลาย', 'ชุด', 'แยก', 'ไป', 'ตาม', 'ชนิด', 'ของ', 'พืช', '  ', 'มี', 'ผู้เชี่ยวชาญ', 'สาขา', 'ต่างๆ', ' ', 'มา', 'ช่วย', 'พิจารณา', '  ', 'ถือเป็น', 'ที่ปรึกษา', 'ด้าน', ' ', 'วิทยาศาสตร์', 'ของ', 'องค์การ', 'อาหาร', 'และ', 'ยา', ' ', '(', 'อย.', ')', ' ', 'ก่อนที่', 'อย.', 'จะ', 'พิจารณา', 'ด้าน', 'อื่นๆ', ' ', 'ต่อไป', '     ', '\\n', 'ทั้งนี้', 'ใน', 'สิ้นเดือน', 'นี้', 'จะ', 'มี', 'การ', 'จัดทำ', 'ประชาพิจารณ์', 'ใน', 'แนวทาง', 'ปฏิบัติ', 'ที่', 'คณะทำงาน', 'ฯ', ' ', 'จะ', 'นำเสนอ', 'ต่อ', ' ', 'อย.', ' ', 'เพื่อ', 'เป็น', 'มาตรฐาน', 'ใน', 'การพิจารณา', 'ความปลอดภัย', 'ด้าน', 'อาหาร', 'ต่อไป', '   ', '\\n', '  ', 'รายงาน', 'โดย', ' ', ':', ' ', 'มุทิตา', ' ', 'เชื้อ', 'ชั่ง', '\\n', 'ศูนย์ข่าว', 'ประชา', 'ไท', '  ', '\\n'], ['ประชา', 'ไท', '-', ' ', '23', ' ', 'ส.ค.', '2547', '   ', 'นักวิชาการ', ' ', 'ภาค', 'ประชาชน', ' ', 'จับมือ', 'ต้าน', 'นโยบาย', 'รัฐ', 'เปิด', 'เสรี', 'จีเอ็มโอ', ' ', 'หวั่น', 'ไทย', 'เสีย', 'ค่า', 'โง่', 'ต่างชาติ', '  ', 'เตรียม', 'ชุมนุม', 'คัดค้าน', 'หน้า', 'ทำเนียบฯ', ' ', 'พรุ่งนี้', '  ', '\\n', 'กลุ่ม', 'องค์กร', 'ผู้บริโภค', ' ', 'เครือข่าย', 'ภาค', 'เกษตรกรรม', ' ', 'นักวิชาการ', ' ', 'และ', 'กลุ่ม', 'ศึกษา', 'เขตการค้าเสรี', 'ภาค', 'ประชาชน', ' ', '(', 'FTA', ' ', 'WATCH', ')', ' ', 'แสดง', 'จุดยืน', 'คัดค้าน', 'มติ', 'ปลูก', 'พืช', 'จีเอ็มโอ', 'อย่าง', 'เสรี', ' ', 'เพราะ', 'เกรง', 'ว่า', 'จะ', 'เป็นอันตราย', 'ต่อ', 'ผู้บริโภค', 'และ', 'สิ่งแวดล้อม', '    ', '\\n', '  ', '\"', 'อยาก', 'ให้', 'รัฐบาล', 'ทบทวน', 'มติ', 'ดังกล่าว', ' ', 'มิเช่นนั้น', 'กลุ่ม', 'ผู้', 'ค้าน', 'เปิด', 'เสรี', 'จีเอ็มโอ', 'ทั้งหมด', 'จะ', 'เคลื่อนไหว', 'ใหญ่', '  ', '\"', 'นาย', 'วิฑูรย์', ' ', 'เลี่ยน', 'จำรูญ', ' ', 'ผู้อำนวยการ', 'ไบโอ', 'ไทย', 'ระบุ', '    ', '\\n', 'พรุ่งนี้', 'เวลา', ' ', '9.00', ' ', 'น.', ' ', 'กลุ่ม', 'ผู้คัดค้าน', 'การ', 'ปลูก', 'และ', 'นำเข้า', 'พืช', 'จีเอ็มโอ', ' ', 'จะ', 'รวมตัว', 'กันที่', 'หน้า', 'ทำเนียบรัฐบาล', 'เพื่อ', 'เรียกร้อง', 'ให้', ' ', 'พ.ต.ท.', 'ทักษิณ', ' ', 'ชินวัตร', ' ', 'นายกรัฐมนตรี', 'ทบทวน', 'มติ', 'ดังกล่าว', '   ', '\\n', 'นาย', 'สุ', 'รวิ', 'ช', ' ', 'วรรณ', 'ไกร', 'โรจน์', ' ', 'อาจารย์', 'คณะ', 'เกษตรศาสตร์', '  ', 'มหาวิทยาลัยเกษตรศาสตร์', ' ', 'กล่าวว่า', ' ', 'รู้สึก', 'เป็นห่วง', 'เรื่อง', 'นี้', 'มาก', ' ', 'เพราะ', 'ขณะนี้', 'ไทย', 'ยัง', 'ไม่มี', 'กฎหมาย', 'กำกับ', 'ดูแล', 'การ', 'ใช้ประโยชน์', 'จาก', 'จีเอ็มโอ', ' ', 'ประกอบ', 'กับ', 'ยัง', 'ไม่มี', 'นักวิทยาศาสตร์', 'คน', 'ไหน', 'กล้า', 'ยืนยัน', 'ว่า', 'จีเอ็มโอ', 'ปลอดภัย', 'ทั้งคน', ' ', 'สัตว์', ' ', 'พืช', ' ', 'และ', 'สิ่งแวดล้อม', '    ', '\\n', ' ', '\"', ' ', 'ผม', 'เป็นห่วง', 'กลัว', 'ว่า', 'เกษตรกร', 'จะ', 'เดือดร้อน', ' ', 'เพราะ', 'รัฐบาล', 'เร่งรัด', 'เปิด', 'เสรี', 'จีเอ็มโอ', 'จน', 'ผิด', 'สัง', 'เกตุ', ' ', 'ผม', 'เชื่อ', 'เหลือเกิน', 'ว่า', 'จะ', 'ต้อง', 'เกี่ยวโยง', 'กับ', 'การ', 'ทำ', 'เอฟทีเอ', 'กับ', 'สหรัฐฯ', 'แน่นอน', '  ', '\"', ' ', 'นาย', 'สุ', 'รวิ', 'ชก', 'ล่า', 'ว', '   ', '\\n', 'นาย', 'บัณฑูร', ' ', 'เศรษฐ', 'ศิ', 'โร', 'ตม', '์', ' ', 'อนุกรรมการ', 'ใน', 'กรรมการ', 'สิทธิมนุษยชน', 'แห่งชาติ', ' ', 'กล่าวว่า', ' ', 'นโยบาย', 'จีเอ็มโอ', 'ของ', 'ไทย', 'ตั้งอยู่', 'บน', 'พื้น', 'ฐานข้อมูล', 'ที่', 'คาด', 'เคลื่อน', ' ', 'ขัดแย้ง', 'กับ', 'นโยบาย', 'ฟู๊ด', 'เซฟตี้', ' ', '(', ' ', 'food', ' ', 'safety', ')', ' ', 'และ', 'เกษตร', 'อินทรีย์', 'อย่าง', 'สิ้นเชิง', ' ', 'จึง', 'อยาก', 'เรียกร้อง', 'ให้', 'รัฐบาล', 'ทบทวน', 'มติ', 'ดังกล่าว', ' ', 'มิเช่นนั้น', 'สหรัฐฯ', 'อาจ', 'ใช้', 'กฎหมาย', 'ที่', 'ว่าด้วย', 'การ', 'ทำ', 'เอฟทีเอ', 'กับ', 'ทุก', 'ประเทศ', 'เอาเปรียบ', 'ไทย', 'ได้', ' ', 'และ', 'ไม่เห็นด้วย', 'ที่จะ', 'ให้', 'มี', 'การทดลอง', 'ภาคสนาม', ' ', 'เพราะ', 'สามารถ', 'ทด', 'ลองใน', 'ห้อง', 'แล็ป', 'ได้', '   ', '\\n', 'นาย', 'วิวัฒน์', ' ', 'ศัลย', 'กำธร', ' ', 'ประธาน', 'มูลนิธิ', 'กสิกรรม', 'ธรรมชาติ', ' ', 'กล่าวว่า', ' ', 'เชื่อ', 'ว่า', 'จะ', 'ต้อง', 'มี', 'อะไร', 'อยู่', 'เบื้องหลัง', 'นโยบาย', 'นี้', ' ', 'มิเช่นนั้น', 'คง', 'ไม่', 'รีบ', 'ทำ', ' ', 'จน', 'ลืม', 'คิด', 'ไป', 'ว่า', 'สวนทาง', 'กับ', 'นโยบาย', 'เกษตร', 'อินทรีย์', ' ', 'จึง', 'อยาก', 'เรียกร้อง', 'ให้', 'ทบทวน', ' ', 'ไม่', 'อยาก', 'ให้', 'ยืมจมูกคนอื่นหายใจ', '   ', '\\n', 'นาย', 'วิฑูรย์', ' ', 'ปัญญา', 'กุล', ' ', 'ตัวแทน', 'จาก', 'กรีน', 'เนท', ' ', 'กล่าวว่า', ' ', 'รัฐ', 'บาน', 'ต้อง', 'แยกแยะ', 'พื้นที่', 'ใน', 'การ', 'ปลูก', 'พืช', 'จีเอ็มโอ', 'ให้', 'ชัดเจน', ' ', 'ที่ผ่านมา', 'ไทย', 'ทำ', 'การศึกษา', 'การ', 'ปนเปื้อน', 'ทั้ง', 'ใน', 'ระดับ', 'เมล็ดพันธุ์', ' ', 'ระดับ', 'ไร่นา', ' ', 'และ', 'ระดับ', 'แปรรูป', 'น้อย', 'มาก', ' ', 'ดังนั้น', 'จึง', 'มีความจำเป็น', 'ต้อง', 'มีระบบ', 'ขึ้นทะเบียน', 'ตรวจสอบ', ' ', 'นอกจากนี้', 'ไม่', 'ควร', 'ให้', 'ทาง', 'ไบโอเทค', 'เป็น', 'ผู้ดูแล', 'กำกับ', 'การ', 'ปลูก', ' ', 'เพราะ', 'เป็น', 'หน่วยงาน', 'ที่', 'ไม่', 'น่าเชื่อถือ', '    ', '\\n', 'นาย', 'เดชา', ' ', 'ศิ', 'ริ', 'ภัทร', ' ', 'เลขานุการ', 'มูลนิธิ', 'เกษตรกรรม', 'ยั่งยืน', ' ', '(', 'ประเทศไทย', ')', ' ', 'กล่าวว่า', ' ', 'รัฐบาล', 'ประกาศ', 'สนับสนุน', 'นโยบาย', 'เกษตร', 'อินทรีย์', ' ', 'เกษตร', 'ยั่งยืน', ' ', 'เกษตร', 'ผสมผสาน', ' ', 'เมื่อ', 'ปี', ' ', '2544', ' ', 'แต่', 'ขณะนี้', 'เกษตรกร', 'ยัง', 'ไม่ได้', 'รับเงิน', 'แม้แต่', 'บาท', 'เดียว', ' ', 'แต่', 'กลับมา', 'ให้ความสำคัญ', 'กับ', 'นโยบาย', 'จีเอ็มโอ', 'ที่', 'ไม่เคย', 'ประกาศ', 'ใน', 'สภา', 'ฯ', '   ', '\\n', ' ', '\"', ' ', 'ผม', 'เห็น', 'ท่าน', 'นายกฯ', 'ผลักดัน', 'เรื่อง', 'จีเอ็มโอ', 'อย่างไม่มีเหตุผล', ' ', 'เร่งรีบ', 'ทำ', 'ทั้งๆ ที่', 'ไม่ใช่', 'นโยบาย', 'ที่ประกาศ', 'ใน', 'สภา', 'ฯ', ' ', 'ซึ่ง', 'ถ้า', 'ท่าน', 'ยัง', 'ไม่', 'หยุด', 'ความคิด', 'เรื่อง', 'นี้', ' ', 'กลุ่ม', 'เกษตรกร', 'ทางเลือก', 'ทุก', 'กลุ่ม', 'ก็', 'พร้อม', 'จะ', 'ไม่', 'ลงคะแนนเสียง', 'ให้', 'พรรค', 'ของ', 'ท่าน', 'ใน', 'การเลือกตั้ง', 'ที่จะ', 'มี', 'ถึง', 'แน่นอน', '\"', '  ', 'นาย', 'เดชา', 'กล่าว', '    ', '\\n', '  ', 'รายงาน', 'โดย', ' ', ':', ' ', 'สม', 'สุข', '  ', 'มณี', 'ทิพย์', 'สกุล', '\\n', 'ศูนย์ข่าว', 'ประชา', 'ไท', ' ', '\\n']]\n"
     ]
    }
   ],
   "source": [
    "print(sentences[0:2])"
   ]
  },
  {
   "cell_type": "code",
   "execution_count": 18,
   "metadata": {},
   "outputs": [],
   "source": [
    "num_workers = 4 # number of threads (run in parallel)\n",
    "downsampling = 1e-3 # the threashold for configurin which higher-frequency words are randomly downsampled (useful range(0,1e-5))\n",
    "num_feature = 100 # Dimensionalit of the word vectors\n",
    "min_word_count = 10 # Ignore all words with total frequency lower than this\n",
    "context = 8 # Maxximum distance between the current and predicted word within a sentence.\n",
    "modelname = 'word2vec_gensim'"
   ]
  },
  {
   "cell_type": "code",
   "execution_count": 19,
   "metadata": {},
   "outputs": [],
   "source": [
    "w2v = word2vec.Word2Vec(workers=num_workers, max_vocab_size=None, vector_size=num_feature,\n",
    "                        min_count=min_word_count, window=context, sample=downsampling)\n"
   ]
  },
  {
   "cell_type": "code",
   "execution_count": 20,
   "metadata": {},
   "outputs": [],
   "source": [
    "w2v.build_vocab(sentences)"
   ]
  },
  {
   "cell_type": "markdown",
   "metadata": {},
   "source": [
    "Train"
   ]
  },
  {
   "cell_type": "code",
   "execution_count": 21,
   "metadata": {},
   "outputs": [],
   "source": [
    "model = w2v.train(sentences,total_examples=w2v.corpus_count,epochs=10)\n"
   ]
  },
  {
   "cell_type": "code",
   "execution_count": 22,
   "metadata": {},
   "outputs": [],
   "source": [
    "try:\n",
    "    model.save(\"word2vec.model\")\n",
    "except:\n",
    "    pass"
   ]
  },
  {
   "cell_type": "markdown",
   "metadata": {},
   "source": [
    "Test Example"
   ]
  },
  {
   "cell_type": "code",
   "execution_count": 23,
   "metadata": {},
   "outputs": [
    {
     "data": {
      "text/plain": [
       "[('รถกระบะ', 0.8391493558883667),\n",
       " ('รถสิบล้อ', 0.8235973715782166),\n",
       " ('รถตู้', 0.8207762241363525),\n",
       " ('รถยนต์', 0.7953808903694153),\n",
       " ('รถบรรทุก', 0.7825443148612976),\n",
       " ('จักรยานยนต์', 0.7764179110527039),\n",
       " ('รถบัส', 0.7736678123474121),\n",
       " ('รถมอเตอร์ไซค์', 0.7729867100715637),\n",
       " ('กระบะ', 0.7675960063934326),\n",
       " ('รถทัวร์', 0.7675246000289917),\n",
       " ('รถจักรยาน', 0.7637677788734436),\n",
       " ('รถจักรยานยนต์', 0.7602120041847229),\n",
       " ('ลิฟท์', 0.7505696415901184),\n",
       " ('รถเก๋ง', 0.7494451403617859),\n",
       " ('ขบวนรถ', 0.7451897263526917),\n",
       " ('มอเตอร์ไซค์', 0.742558479309082),\n",
       " ('รถพ่วง', 0.7405983805656433),\n",
       " ('รถหกล้อ', 0.7379193902015686),\n",
       " ('คนขับรถ', 0.735040545463562),\n",
       " ('ขับรถ', 0.7341622114181519)]"
      ]
     },
     "execution_count": 23,
     "metadata": {},
     "output_type": "execute_result"
    }
   ],
   "source": [
    "WORD = 'รถ'\n",
    "w2v.wv.most_similar(WORD, topn=20)\n"
   ]
  },
  {
   "cell_type": "code",
   "execution_count": 24,
   "metadata": {},
   "outputs": [
    {
     "data": {
      "text/plain": [
       "[('เมื่อไร', 0.9347016215324402),\n",
       " ('เมื่อใด', 0.7305006980895996),\n",
       " ('หรือยัง', 0.7018803358078003),\n",
       " ('ยังไง', 0.6603926420211792),\n",
       " ('ที่ไหน', 0.6484417915344238),\n",
       " ('วันใด', 0.6381266117095947),\n",
       " ('อีกหน่อย', 0.6245430707931519),\n",
       " ('ไหม', 0.6200838685035706),\n",
       " ('วันหนึ่ง', 0.6085060834884644),\n",
       " ('อยู่ดีๆ', 0.598455011844635),\n",
       " ('เดี๋ยว', 0.5977216362953186),\n",
       " ('หรือเปล่า', 0.5949921607971191),\n",
       " ('ไง', 0.5886408686637878),\n",
       " ('สักที', 0.5861262083053589),\n",
       " ('เชื่อเถอะ', 0.5703983902931213),\n",
       " ('จู่ๆ', 0.5653114914894104),\n",
       " ('มั้ย', 0.5641443133354187),\n",
       " ('เพราะอะไร', 0.5592016577720642),\n",
       " ('ตรงไหน', 0.5563405156135559),\n",
       " ('ทันที', 0.552716851234436)]"
      ]
     },
     "execution_count": 24,
     "metadata": {},
     "output_type": "execute_result"
    }
   ],
   "source": [
    "WORD = 'เมื่อไหร่'\n",
    "w2v.wv.most_similar(WORD, topn=20)"
   ]
  },
  {
   "cell_type": "code",
   "execution_count": 25,
   "metadata": {},
   "outputs": [
    {
     "data": {
      "text/plain": [
       "[('แอ้ด', 0.743043839931488),\n",
       " ('\"กษิต\"', 0.7271677851676941),\n",
       " ('ลั่น', 0.7086421251296997),\n",
       " ('แฉ', 0.7084677219390869),\n",
       " ('มท.1', 0.7036770582199097),\n",
       " ('ปูด', 0.6982495784759521),\n",
       " ('มาร์ค', 0.6974632143974304),\n",
       " ('จวก', 0.6910861730575562),\n",
       " ('รบ.', 0.6790048480033875),\n",
       " ('บิ๊ก', 0.6771410703659058),\n",
       " ('เหลิม', 0.6691214442253113),\n",
       " ('เมิน', 0.6576798558235168),\n",
       " ('คนโกง', 0.6471376419067383),\n",
       " ('เย้ย', 0.6457255482673645),\n",
       " ('เพียบ', 0.6453643441200256),\n",
       " (\"\\xa0'\", 0.6425312757492065),\n",
       " ('ปชป.', 0.6421924233436584),\n",
       " (\"'\\xa0\", 0.6412088871002197),\n",
       " ('ตู่', 0.640868604183197),\n",
       " ('ทรท.', 0.6396011114120483)]"
      ]
     },
     "execution_count": 25,
     "metadata": {},
     "output_type": "execute_result"
    }
   ],
   "source": [
    "WORD = 'แม้ว'\n",
    "w2v.wv.most_similar(WORD, topn=20)"
   ]
  },
  {
   "cell_type": "code",
   "execution_count": 26,
   "metadata": {},
   "outputs": [
    {
     "data": {
      "text/plain": [
       "[('อภิสิทธิ์', 0.6385932564735413),\n",
       " ('ษิน', 0.6307551860809326),\n",
       " ('อำมาตย์', 0.5888842940330505),\n",
       " ('อำมาตยาธิปไตย', 0.582269012928009),\n",
       " ('ชินวัตร', 0.5774354934692383),\n",
       " ('ประชาธิปัตย์', 0.5744065046310425),\n",
       " ('บรรหาร', 0.5657556056976318),\n",
       " ('เนวิน', 0.5640488266944885),\n",
       " ('ลิ่วล้อ', 0.5604701638221741),\n",
       " ('หุ่นเชิด', 0.544934868812561),\n",
       " ('เผด็จการ', 0.5436272621154785),\n",
       " ('รัฐประหาร', 0.5364387631416321),\n",
       " ('นอมินี', 0.5283088088035583),\n",
       " ('ขายชาติ', 0.5238112211227417),\n",
       " ('ทรราช', 0.5102506279945374),\n",
       " ('อมาตยาธิปไตย', 0.5099377632141113),\n",
       " ('สนธิ', 0.5099274516105652),\n",
       " ('พลเอกเปรม ติณสูลานนท์', 0.5088088512420654),\n",
       " ('นายใหญ่', 0.5068730115890503),\n",
       " ('เหลิงอำนาจ', 0.5065018534660339)]"
      ]
     },
     "execution_count": 26,
     "metadata": {},
     "output_type": "execute_result"
    }
   ],
   "source": [
    "WORD = 'ทักษิณ'\n",
    "w2v.wv.most_similar(WORD, topn=20)"
   ]
  },
  {
   "cell_type": "code",
   "execution_count": 27,
   "metadata": {},
   "outputs": [
    {
     "data": {
      "text/plain": [
       "[('ช่างภาพ', 0.7757322788238525),\n",
       " ('บล็อกเกอร์', 0.6670809388160706),\n",
       " ('ผู้ประกาศข่าว', 0.6480328440666199),\n",
       " ('สื่อมวลชน', 0.6318206787109375),\n",
       " ('บีบีซี', 0.6244786977767944),\n",
       " ('ผู้สื่อข่าว', 0.6192168593406677),\n",
       " ('เดอะเนชั่น', 0.6084224581718445),\n",
       " ('คอลัมนิสต์', 0.6048362255096436),\n",
       " ('ตากล้อง', 0.5931663513183594),\n",
       " ('สื่อ', 0.5885286331176758),\n",
       " ('ข่าว', 0.5852381587028503),\n",
       " ('เทเลกราฟ', 0.5806021094322205),\n",
       " ('ข่าวกีฬา', 0.573738694190979),\n",
       " ('ผู้รายงานข่าว', 0.564088761806488),\n",
       " ('ThaiPBS', 0.5514214038848877),\n",
       " ('โปรดิวเซอร์', 0.5494003295898438),\n",
       " ('CNN', 0.547064483165741),\n",
       " ('TPBS', 0.544996440410614),\n",
       " ('SCMP', 0.5403591990470886),\n",
       " ('บรรณาธิการ', 0.5399929285049438)]"
      ]
     },
     "execution_count": 27,
     "metadata": {},
     "output_type": "execute_result"
    }
   ],
   "source": [
    "WORD = 'นักข่าว'\n",
    "wd = w2v.wv.most_similar(WORD, topn=20)\n",
    "wd"
   ]
  },
  {
   "cell_type": "code",
   "execution_count": 28,
   "metadata": {},
   "outputs": [],
   "source": [
    "x = [w[0] for w in wd]\n",
    "x.append(WORD)"
   ]
  },
  {
   "cell_type": "code",
   "execution_count": 29,
   "metadata": {},
   "outputs": [],
   "source": [
    "# labels = w2v.wv.index2word\n",
    "labels = w2v.wv.index_to_key"
   ]
  },
  {
   "cell_type": "markdown",
   "metadata": {},
   "source": [
    "plot graph"
   ]
  },
  {
   "cell_type": "code",
   "execution_count": 30,
   "metadata": {},
   "outputs": [],
   "source": [
    "from sklearn.manifold import TSNE # นำมาลด dimension จาก 100 มาเป็น 2 \n",
    "tsne = TSNE(perplexity=30.0, n_components=2, init='pca', n_iter=5000)\n",
    "thai2plot = tsne.fit_transform(w2v.wv.vectors)\n"
   ]
  },
  {
   "cell_type": "code",
   "execution_count": 31,
   "metadata": {},
   "outputs": [],
   "source": [
    "sample_idx = []\n",
    "for word in x:\n",
    "    sample_idx.append(labels.index(word))\n",
    "sample_plot = thai2plot[sample_idx]"
   ]
  },
  {
   "cell_type": "code",
   "execution_count": 40,
   "metadata": {},
   "outputs": [],
   "source": [
    "def plot_with_labels(low_dim_embs, labels, filename, figsize=(10, 10)):\n",
    "    assert low_dim_embs.shape[0] >= len(labels), \"More labels than embeddings\"\n",
    "    plt.figure(figsize=figsize)\n",
    "    for i, label in enumerate(labels):\n",
    "        x, y = low_dim_embs[i, :]\n",
    "        plt.scatter(x, y)\n",
    "        prop = font_manager.FontProperties(fname=f'THSarabunNew.ttf', size=20)\n",
    "        plt.annotate(label, fontproperties=prop,\n",
    "                     xy=(x, y),\n",
    "                     xytext=(5, 2),\n",
    "                     textcoords='offset points',\n",
    "                     ha='right', va='bottom')\n",
    "    plt.savefig(filename)\n"
   ]
  },
  {
   "cell_type": "code",
   "execution_count": 41,
   "metadata": {},
   "outputs": [
    {
     "data": {
      "image/png": "[encoded data removed]",
      "text/plain": [
       "<Figure size 720x720 with 1 Axes>"
      ]
     },
     "metadata": {
      "needs_background": "light"
     },
     "output_type": "display_data"
    }
   ],
   "source": [
    "plot_with_labels(sample_plot,x,'sample.png')"
   ]
  },
  {
   "cell_type": "code",
   "execution_count": null,
   "metadata": {},
   "outputs": [],
   "source": []
  }
 ],
 "metadata": {
  "interpreter": {
   "hash": "f08154012ddadd8e950e6e9e035c7a7b32c136e7647e9b7c77e02eb723a8bedb"
  },
  "kernelspec": {
   "display_name": "Python 3.8.12 ('base')",
   "language": "python",
   "name": "python3"
  },
  "language_info": {
   "codemirror_mode": {
    "name": "ipython",
    "version": 3
   },
   "file_extension": ".py",
   "mimetype": "text/x-python",
   "name": "python",
   "nbconvert_exporter": "python",
   "pygments_lexer": "ipython3",
   "version": "3.8.12"
  },
  "orig_nbformat": 4
 },
 "nbformat": 4,
 "nbformat_minor": 2
}
