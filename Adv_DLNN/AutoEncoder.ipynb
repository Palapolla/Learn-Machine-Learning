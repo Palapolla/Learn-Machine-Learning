{
 "cells": [
  {
   "cell_type": "markdown",
   "metadata": {},
   "source": [
    "# Autoencoder"
   ]
  },
  {
   "cell_type": "code",
   "execution_count": 19,
   "metadata": {},
   "outputs": [],
   "source": [
    "import numpy as np\n",
    "import tensorflow as tf\n"
   ]
  },
  {
   "cell_type": "code",
   "execution_count": 20,
   "metadata": {},
   "outputs": [
    {
     "name": "stdout",
     "output_type": "stream",
     "text": [
      "[[1. 0. 0. 0. 0. 0. 0. 0.]\n",
      " [0. 1. 0. 0. 0. 0. 0. 0.]\n",
      " [0. 0. 1. 0. 0. 0. 0. 0.]\n",
      " [0. 0. 0. 1. 0. 0. 0. 0.]\n",
      " [0. 0. 0. 0. 1. 0. 0. 0.]\n",
      " [0. 0. 0. 0. 0. 1. 0. 0.]\n",
      " [0. 0. 0. 0. 0. 0. 1. 0.]\n",
      " [0. 0. 0. 0. 0. 0. 0. 1.]]\n"
     ]
    }
   ],
   "source": [
    "X = np.eye(8).astype(np.float32)\n",
    "# eye = identity matrix\n",
    "print(X)"
   ]
  },
  {
   "cell_type": "code",
   "execution_count": 21,
   "metadata": {},
   "outputs": [],
   "source": [
    "# 8 - 3 - 8\n",
    "inputs = tf.keras.Input(shape=X.shape[1]) # 8 \n",
    "encoder = tf.keras.layers.Dense(3, activation='sigmoid') # 3 \n",
    "decoder = tf.keras.layers.Dense(X.shape[1], activation='sigmoid') # 8\n",
    "outputs = decoder(encoder(inputs))\n",
    "model = tf.keras.Model(inputs, outputs)\n",
    "model.compile(loss=tf.keras.losses.MeanSquaredError(),\n",
    "              optimizer=tf.keras.optimizers.SGD(learning_rate=3.5))\n"
   ]
  },
  {
   "cell_type": "code",
   "execution_count": 22,
   "metadata": {},
   "outputs": [
    {
     "data": {
      "text/plain": [
       "<keras.callbacks.History at 0x2ecb668a880>"
      ]
     },
     "execution_count": 22,
     "metadata": {},
     "output_type": "execute_result"
    }
   ],
   "source": [
    "model.fit(X, X, epochs=5000, verbose=0)\n"
   ]
  },
  {
   "cell_type": "markdown",
   "metadata": {},
   "source": [
    "ผลการ Encode </br>\n",
    "มันจะ encode ออกมาเป็นเลขฐาน 2  0-7 เองโดยไม่เรียงลำดับให้"
   ]
  },
  {
   "cell_type": "code",
   "execution_count": 23,
   "metadata": {},
   "outputs": [
    {
     "data": {
      "text/plain": [
       "array([[1., 1., 1.],\n",
       "       [1., 0., 0.],\n",
       "       [0., 1., 1.],\n",
       "       [0., 1., 0.],\n",
       "       [0., 0., 0.],\n",
       "       [1., 1., 0.],\n",
       "       [0., 0., 1.],\n",
       "       [1., 0., 1.]], dtype=float32)"
      ]
     },
     "execution_count": 23,
     "metadata": {},
     "output_type": "execute_result"
    }
   ],
   "source": [
    "np.round(encoder(X))\n",
    "# มันจะ encode ออกมาเป็นเลขฐาน 2  0-7 เองโดยไม่เรียงลำดับให้"
   ]
  },
  {
   "cell_type": "code",
   "execution_count": 24,
   "metadata": {},
   "outputs": [
    {
     "data": {
      "text/plain": [
       "array([[8.40235412e-01, 7.59654431e-05, 1.16917966e-02, 4.40662960e-04,\n",
       "        1.40179545e-05, 6.31941780e-02, 7.15050788e-04, 9.77304950e-02],\n",
       "       [2.01193173e-03, 8.52793753e-01, 3.99336968e-05, 1.91352796e-03,\n",
       "        7.83668160e-02, 6.00655116e-02, 2.90001370e-03, 1.66374311e-01],\n",
       "       [1.14050329e-01, 4.29789498e-06, 8.61474514e-01, 2.29474306e-02,\n",
       "        8.18577223e-03, 4.22637182e-04, 4.25354168e-02, 2.98257661e-03],\n",
       "       [4.52466309e-03, 9.52962262e-04, 8.54431540e-02, 9.14941967e-01,\n",
       "        5.75618222e-02, 8.12778324e-02, 2.73442984e-05, 1.78024478e-04],\n",
       "       [2.31729733e-04, 8.81692097e-02, 2.00315136e-02, 6.64378703e-02,\n",
       "        8.62841785e-01, 9.87697393e-04, 5.49876057e-02, 6.41717575e-03],\n",
       "       [8.92912224e-02, 7.14172050e-02, 7.04773120e-05, 5.89306280e-02,\n",
       "        2.34817475e-04, 8.91837299e-01, 1.55782971e-06, 1.64186191e-02],\n",
       "       [2.09150314e-02, 1.09670451e-03, 1.29420832e-01, 1.31469467e-04,\n",
       "        7.68206939e-02, 6.19635757e-05, 8.52223337e-01, 1.51737824e-01],\n",
       "       [1.04225434e-01, 8.34595561e-02, 2.65549897e-04, 8.63972582e-06,\n",
       "        1.73780101e-03, 5.71639696e-03, 1.29069149e-01, 7.67100632e-01]],\n",
       "      dtype=float32)"
      ]
     },
     "execution_count": 24,
     "metadata": {},
     "output_type": "execute_result"
    }
   ],
   "source": [
    "model.predict(X)"
   ]
  },
  {
   "cell_type": "code",
   "execution_count": 25,
   "metadata": {},
   "outputs": [
    {
     "name": "stdout",
     "output_type": "stream",
     "text": [
      "[[1. 0. 0. 0. 0. 0. 0. 0.]\n",
      " [0. 1. 0. 0. 0. 0. 0. 0.]\n",
      " [0. 0. 1. 0. 0. 0. 0. 0.]\n",
      " [0. 0. 0. 1. 0. 0. 0. 0.]\n",
      " [0. 0. 0. 0. 1. 0. 0. 0.]\n",
      " [0. 0. 0. 0. 0. 1. 0. 0.]\n",
      " [0. 0. 0. 0. 0. 0. 1. 0.]\n",
      " [0. 0. 0. 0. 0. 0. 0. 1.]]\n"
     ]
    }
   ],
   "source": [
    "Z = np.round(model(X))\n",
    "print(Z)"
   ]
  },
  {
   "cell_type": "markdown",
   "metadata": {},
   "source": [
    "# Autoencoder as Feature Extractor"
   ]
  },
  {
   "cell_type": "markdown",
   "metadata": {},
   "source": [
    "Encode with MLP"
   ]
  },
  {
   "cell_type": "code",
   "execution_count": 1,
   "metadata": {},
   "outputs": [],
   "source": [
    "import tensorflow as tf\n",
    "import numpy as np\n",
    "from tensorflow.keras import Model, Input, layers, losses, optimizers, datasets\n",
    "from matplotlib import pyplot as plt\n",
    "\n",
    "(X, Y), (Xtest, Ytest) = datasets.mnist.load_data()\n",
    "X = X.astype(np.float32) / 255.0\n",
    "Xtest = Xtest.astype(np.float32) / 255.0\n",
    "X = X.reshape(-1, 28*28)\n",
    "Xtest = Xtest.reshape(-1, 28*28)\n"
   ]
  },
  {
   "cell_type": "code",
   "execution_count": 2,
   "metadata": {},
   "outputs": [
    {
     "name": "stdout",
     "output_type": "stream",
     "text": [
      "accuracy rate= 0.9792\n",
      "confusion matrix:\n",
      "[[ 973    0    1    0    0    2    1    1    2    0]\n",
      " [   0 1126    3    1    0    1    1    1    2    0]\n",
      " [   6    1 1006    2    1    0    2    7    6    1]\n",
      " [   0    0    2  995    0    2    0    5    5    1]\n",
      " [   0    0    5    0  961    0    3    0    2   11]\n",
      " [   2    0    0    9    0  871    4    1    4    1]\n",
      " [   6    2    0    0    2    3  944    0    1    0]\n",
      " [   0    6   11    1    1    0    0  996    2   11]\n",
      " [   3    0    2    6    3    2    2    3  950    3]\n",
      " [   3    4    1    7   10    2    1    7    4  970]]\n"
     ]
    }
   ],
   "source": [
    "from sklearn.svm import SVC\n",
    "from sklearn.metrics import accuracy_score, confusion_matrix\n",
    "\n",
    "clf = SVC()\n",
    "clf.fit(X, Y)\n",
    "Z = clf.predict(Xtest)\n",
    "print('accuracy rate=', accuracy_score(Ytest, Z))\n",
    "print('confusion matrix:')\n",
    "print(confusion_matrix(Ytest, Z))"
   ]
  },
  {
   "cell_type": "code",
   "execution_count": 3,
   "metadata": {},
   "outputs": [],
   "source": [
    "# 784-392-196-98-196-392-784\n",
    "inputs = Input(shape=X.shape[1])\n",
    "en1 = tf.keras.layers.Dense(X.shape[1] // 2, activation='relu')\n",
    "en2 = tf.keras.layers.Dense(X.shape[1] // 4, activation='relu')\n",
    "en3 = tf.keras.layers.Dense(X.shape[1] // 8, activation='relu')\n",
    "\n",
    "de1 = tf.keras.layers.Dense(X.shape[1] // 4, activation='relu')\n",
    "de2 = tf.keras.layers.Dense(X.shape[1] // 2, activation='relu')\n",
    "de3 = tf.keras.layers.Dense(X.shape[1], activation='relu')\n",
    "\n",
    "outputs = de3(de2(de1(en3(en2(en1(inputs))))))\n",
    "model = Model(inputs,outputs)\n"
   ]
  },
  {
   "cell_type": "code",
   "execution_count": 4,
   "metadata": {},
   "outputs": [],
   "source": [
    "model.compile(loss=losses.MeanSquaredError(),\n",
    "                optimizer=optimizers.SGD(learning_rate=0.1))"
   ]
  },
  {
   "cell_type": "code",
   "execution_count": 6,
   "metadata": {},
   "outputs": [
    {
     "name": "stdout",
     "output_type": "stream",
     "text": [
      "Epoch 1/200\n",
      "1875/1875 [==============================] - 7s 3ms/step - loss: 0.0804\n",
      "Epoch 2/200\n",
      "1875/1875 [==============================] - 5s 3ms/step - loss: 0.0695\n",
      "Epoch 3/200\n",
      "1875/1875 [==============================] - 5s 3ms/step - loss: 0.0554\n",
      "Epoch 4/200\n",
      "1875/1875 [==============================] - 7s 4ms/step - loss: 0.0475\n",
      "Epoch 5/200\n",
      "1875/1875 [==============================] - 6s 3ms/step - loss: 0.0425\n",
      "Epoch 6/200\n",
      "1875/1875 [==============================] - 6s 3ms/step - loss: 0.0395\n",
      "Epoch 7/200\n",
      "1875/1875 [==============================] - 6s 3ms/step - loss: 0.0373\n",
      "Epoch 8/200\n",
      "1875/1875 [==============================] - 6s 3ms/step - loss: 0.0357\n",
      "Epoch 9/200\n",
      "1875/1875 [==============================] - 6s 3ms/step - loss: 0.0343\n",
      "Epoch 10/200\n",
      "1875/1875 [==============================] - 7s 4ms/step - loss: 0.0331\n",
      "Epoch 11/200\n",
      "1875/1875 [==============================] - 6s 3ms/step - loss: 0.0322\n",
      "Epoch 12/200\n",
      "1875/1875 [==============================] - 6s 3ms/step - loss: 0.0315\n",
      "Epoch 13/200\n",
      "1875/1875 [==============================] - 6s 3ms/step - loss: 0.0309\n",
      "Epoch 14/200\n",
      "1875/1875 [==============================] - 6s 3ms/step - loss: 0.0303\n",
      "Epoch 15/200\n",
      "1875/1875 [==============================] - 6s 3ms/step - loss: 0.0298\n",
      "Epoch 16/200\n",
      "1875/1875 [==============================] - 6s 3ms/step - loss: 0.0294\n",
      "Epoch 17/200\n",
      "1875/1875 [==============================] - 6s 3ms/step - loss: 0.0290\n",
      "Epoch 18/200\n",
      "1875/1875 [==============================] - 6s 3ms/step - loss: 0.0287\n",
      "Epoch 19/200\n",
      "1875/1875 [==============================] - 6s 3ms/step - loss: 0.0281\n",
      "Epoch 20/200\n",
      "1875/1875 [==============================] - 6s 3ms/step - loss: 0.0276\n",
      "Epoch 21/200\n",
      "1875/1875 [==============================] - 6s 3ms/step - loss: 0.0273\n",
      "Epoch 22/200\n",
      "1875/1875 [==============================] - 6s 3ms/step - loss: 0.0271\n",
      "Epoch 23/200\n",
      "1875/1875 [==============================] - 6s 3ms/step - loss: 0.0268\n",
      "Epoch 24/200\n",
      "1875/1875 [==============================] - 6s 3ms/step - loss: 0.0266\n",
      "Epoch 25/200\n",
      "1875/1875 [==============================] - 6s 3ms/step - loss: 0.0264\n",
      "Epoch 26/200\n",
      "1875/1875 [==============================] - 6s 3ms/step - loss: 0.0262\n",
      "Epoch 27/200\n",
      "1875/1875 [==============================] - 6s 3ms/step - loss: 0.0261\n",
      "Epoch 28/200\n",
      "1875/1875 [==============================] - 6s 3ms/step - loss: 0.0259A: 1s - loss: 0. - \n",
      "Epoch 29/200\n",
      "1875/1875 [==============================] - 6s 3ms/step - loss: 0.0257\n",
      "Epoch 30/200\n",
      "1875/1875 [==============================] - 6s 3ms/step - loss: 0.0254\n",
      "Epoch 31/200\n",
      "1875/1875 [==============================] - 6s 3ms/step - loss: 0.0251A:\n",
      "Epoch 32/200\n",
      "1875/1875 [==============================] - 6s 3ms/step - loss: 0.0249\n",
      "Epoch 33/200\n",
      "1875/1875 [==============================] - 6s 3ms/step - loss: 0.0248\n",
      "Epoch 34/200\n",
      "1875/1875 [==============================] - 6s 3ms/step - loss: 0.0246\n",
      "Epoch 35/200\n",
      "1875/1875 [==============================] - 5s 3ms/step - loss: 0.0245\n",
      "Epoch 36/200\n",
      "1875/1875 [==============================] - 6s 3ms/step - loss: 0.0244\n",
      "Epoch 37/200\n",
      "1875/1875 [==============================] - 5s 3ms/step - loss: 0.0243\n",
      "Epoch 38/200\n",
      "1875/1875 [==============================] - 5s 3ms/step - loss: 0.0242\n",
      "Epoch 39/200\n",
      "1875/1875 [==============================] - 6s 3ms/step - loss: 0.0241\n",
      "Epoch 40/200\n",
      "1875/1875 [==============================] - 6s 3ms/step - loss: 0.0240\n",
      "Epoch 41/200\n",
      "1875/1875 [==============================] - 6s 3ms/step - loss: 0.0239\n",
      "Epoch 42/200\n",
      "1875/1875 [==============================] - 6s 3ms/step - loss: 0.0238\n",
      "Epoch 43/200\n",
      "1875/1875 [==============================] - 6s 3ms/step - loss: 0.0237\n",
      "Epoch 44/200\n",
      "1875/1875 [==============================] - 5s 3ms/step - loss: 0.0236\n",
      "Epoch 45/200\n",
      "1875/1875 [==============================] - 5s 3ms/step - loss: 0.0233A: 0s \n",
      "Epoch 46/200\n",
      "1875/1875 [==============================] - 5s 3ms/step - loss: 0.0232\n",
      "Epoch 47/200\n",
      "1875/1875 [==============================] - 5s 3ms/step - loss: 0.0231\n",
      "Epoch 48/200\n",
      "1875/1875 [==============================] - 5s 3ms/step - loss: 0.0230A\n",
      "Epoch 49/200\n",
      "1875/1875 [==============================] - 6s 3ms/step - loss: 0.0229\n",
      "Epoch 50/200\n",
      "1875/1875 [==============================] - 6s 3ms/step - loss: 0.0228A: 0s - lo\n",
      "Epoch 51/200\n",
      "1875/1875 [==============================] - 6s 3ms/step - loss: 0.0228\n",
      "Epoch 52/200\n",
      "1875/1875 [==============================] - 6s 3ms/step - loss: 0.0225\n",
      "Epoch 53/200\n",
      "1875/1875 [==============================] - 6s 3ms/step - loss: 0.0223\n",
      "Epoch 54/200\n",
      "1875/1875 [==============================] - 6s 3ms/step - loss: 0.0222\n",
      "Epoch 55/200\n",
      "1875/1875 [==============================] - 6s 3ms/step - loss: 0.0221A: 0s - loss:\n",
      "Epoch 56/200\n",
      "1875/1875 [==============================] - 6s 3ms/step - loss: 0.0221\n",
      "Epoch 57/200\n",
      "1875/1875 [==============================] - 6s 3ms/step - loss: 0.0220\n",
      "Epoch 58/200\n",
      "1875/1875 [==============================] - 6s 3ms/step - loss: 0.0220\n",
      "Epoch 59/200\n",
      "1875/1875 [==============================] - 6s 3ms/step - loss: 0.0219\n",
      "Epoch 60/200\n",
      "1875/1875 [==============================] - 6s 3ms/step - loss: 0.0219\n",
      "Epoch 61/200\n",
      "1875/1875 [==============================] - 6s 3ms/step - loss: 0.0218\n",
      "Epoch 62/200\n",
      "1875/1875 [==============================] - 6s 3ms/step - loss: 0.0216\n",
      "Epoch 63/200\n",
      "1875/1875 [==============================] - 6s 3ms/step - loss: 0.0213\n",
      "Epoch 64/200\n",
      "1875/1875 [==============================] - 6s 3ms/step - loss: 0.0213\n",
      "Epoch 65/200\n",
      "1875/1875 [==============================] - 6s 3ms/step - loss: 0.0212A: 0s -\n",
      "Epoch 66/200\n",
      "1875/1875 [==============================] - 6s 3ms/step - loss: 0.0212\n",
      "Epoch 67/200\n",
      "1875/1875 [==============================] - 5s 3ms/step - loss: 0.0211\n",
      "Epoch 68/200\n",
      "1875/1875 [==============================] - 6s 3ms/step - loss: 0.0211\n",
      "Epoch 69/200\n",
      "1875/1875 [==============================] - 6s 3ms/step - loss: 0.0211\n",
      "Epoch 70/200\n",
      "1875/1875 [==============================] - 6s 3ms/step - loss: 0.0210\n",
      "Epoch 71/200\n",
      "1875/1875 [==============================] - 6s 3ms/step - loss: 0.0210\n",
      "Epoch 72/200\n",
      "1875/1875 [==============================] - 5s 3ms/step - loss: 0.0210\n",
      "Epoch 73/200\n",
      "1875/1875 [==============================] - 5s 3ms/step - loss: 0.0209\n",
      "Epoch 74/200\n",
      "1875/1875 [==============================] - 6s 3ms/step - loss: 0.0209\n",
      "Epoch 75/200\n",
      "1875/1875 [==============================] - 6s 3ms/step - loss: 0.0206\n",
      "Epoch 76/200\n",
      "1875/1875 [==============================] - 5s 3ms/step - loss: 0.0204\n",
      "Epoch 77/200\n",
      "1875/1875 [==============================] - 6s 3ms/step - loss: 0.0204\n",
      "Epoch 78/200\n",
      "1875/1875 [==============================] - 6s 3ms/step - loss: 0.0203\n",
      "Epoch 79/200\n",
      "1875/1875 [==============================] - 6s 3ms/step - loss: 0.0203\n",
      "Epoch 80/200\n",
      "1875/1875 [==============================] - 6s 3ms/step - loss: 0.0203\n",
      "Epoch 81/200\n",
      "1875/1875 [==============================] - 6s 3ms/step - loss: 0.0202\n",
      "Epoch 82/200\n",
      "1875/1875 [==============================] - 6s 3ms/step - loss: 0.0202\n",
      "Epoch 83/200\n",
      "1875/1875 [==============================] - 6s 3ms/step - loss: 0.0202\n",
      "Epoch 84/200\n",
      "1875/1875 [==============================] - 6s 3ms/step - loss: 0.0201\n",
      "Epoch 85/200\n",
      "1875/1875 [==============================] - 6s 3ms/step - loss: 0.0201\n",
      "Epoch 86/200\n",
      "1875/1875 [==============================] - 6s 3ms/step - loss: 0.0201\n",
      "Epoch 87/200\n",
      "1875/1875 [==============================] - 6s 3ms/step - loss: 0.0201\n",
      "Epoch 88/200\n",
      "1875/1875 [==============================] - 6s 3ms/step - loss: 0.0200\n",
      "Epoch 89/200\n",
      "1875/1875 [==============================] - 6s 3ms/step - loss: 0.0200\n",
      "Epoch 90/200\n",
      "1875/1875 [==============================] - 5s 3ms/step - loss: 0.0200\n",
      "Epoch 91/200\n",
      "1875/1875 [==============================] - 6s 3ms/step - loss: 0.0200\n",
      "Epoch 92/200\n",
      "1875/1875 [==============================] - 6s 3ms/step - loss: 0.0200\n",
      "Epoch 93/200\n",
      "1875/1875 [==============================] - 6s 3ms/step - loss: 0.0199\n",
      "Epoch 94/200\n",
      "1875/1875 [==============================] - 6s 3ms/step - loss: 0.0199\n",
      "Epoch 95/200\n",
      "1875/1875 [==============================] - 5s 3ms/step - loss: 0.0199\n",
      "Epoch 96/200\n",
      "1875/1875 [==============================] - 5s 3ms/step - loss: 0.0199\n",
      "Epoch 97/200\n",
      "1875/1875 [==============================] - 6s 3ms/step - loss: 0.0199\n",
      "Epoch 98/200\n",
      "1875/1875 [==============================] - 5s 3ms/step - loss: 0.0198A: 0s \n",
      "Epoch 99/200\n",
      "1875/1875 [==============================] - 6s 3ms/step - loss: 0.0198\n",
      "Epoch 100/200\n",
      "1875/1875 [==============================] - 5s 3ms/step - loss: 0.0198\n",
      "Epoch 101/200\n",
      "1875/1875 [==============================] - 5s 3ms/step - loss: 0.0198\n",
      "Epoch 102/200\n",
      "1875/1875 [==============================] - 5s 3ms/step - loss: 0.0198\n",
      "Epoch 103/200\n",
      "1875/1875 [==============================] - 6s 3ms/step - loss: 0.0197\n",
      "Epoch 104/200\n",
      "1875/1875 [==============================] - 6s 3ms/step - loss: 0.0197\n",
      "Epoch 105/200\n",
      "1875/1875 [==============================] - 6s 3ms/step - loss: 0.0197\n",
      "Epoch 106/200\n",
      "1875/1875 [==============================] - 5s 3ms/step - loss: 0.0195\n",
      "Epoch 107/200\n",
      "1875/1875 [==============================] - 5s 3ms/step - loss: 0.0192\n",
      "Epoch 108/200\n",
      "1875/1875 [==============================] - 5s 3ms/step - loss: 0.0192A: 0s - \n",
      "Epoch 109/200\n",
      "1875/1875 [==============================] - 6s 3ms/step - loss: 0.0192\n",
      "Epoch 110/200\n",
      "1875/1875 [==============================] - 6s 3ms/step - loss: 0.0191\n",
      "Epoch 111/200\n",
      "1875/1875 [==============================] - 6s 3ms/step - loss: 0.0191\n",
      "Epoch 112/200\n",
      "1875/1875 [==============================] - 6s 3ms/step - loss: 0.0191\n",
      "Epoch 113/200\n",
      "1875/1875 [==============================] - 6s 3ms/step - loss: 0.0191\n",
      "Epoch 114/200\n",
      "1875/1875 [==============================] - 6s 3ms/step - loss: 0.0191\n",
      "Epoch 115/200\n",
      "1875/1875 [==============================] - 5s 3ms/step - loss: 0.0191\n",
      "Epoch 116/200\n",
      "1875/1875 [==============================] - 6s 3ms/step - loss: 0.0190\n",
      "Epoch 117/200\n",
      "1875/1875 [==============================] - 6s 3ms/step - loss: 0.0190\n",
      "Epoch 118/200\n",
      "1875/1875 [==============================] - 6s 3ms/step - loss: 0.0190\n",
      "Epoch 119/200\n",
      "1875/1875 [==============================] - 6s 3ms/step - loss: 0.0190\n",
      "Epoch 120/200\n",
      "1875/1875 [==============================] - 6s 3ms/step - loss: 0.0190\n",
      "Epoch 121/200\n",
      "1875/1875 [==============================] - 6s 3ms/step - loss: 0.0190\n",
      "Epoch 122/200\n",
      "1875/1875 [==============================] - 6s 3ms/step - loss: 0.0190\n",
      "Epoch 123/200\n",
      "1875/1875 [==============================] - 6s 3ms/step - loss: 0.0189\n",
      "Epoch 124/200\n",
      "1875/1875 [==============================] - 6s 3ms/step - loss: 0.0189\n",
      "Epoch 125/200\n",
      "1875/1875 [==============================] - 6s 3ms/step - loss: 0.0189\n",
      "Epoch 126/200\n",
      "1875/1875 [==============================] - 6s 3ms/step - loss: 0.0189\n",
      "Epoch 127/200\n",
      "1875/1875 [==============================] - 6s 3ms/step - loss: 0.0188\n",
      "Epoch 128/200\n",
      "1875/1875 [==============================] - 6s 3ms/step - loss: 0.0188\n",
      "Epoch 129/200\n",
      "1875/1875 [==============================] - 6s 3ms/step - loss: 0.0188A: 0s - loss:\n",
      "Epoch 130/200\n",
      "1875/1875 [==============================] - 6s 3ms/step - loss: 0.0187\n",
      "Epoch 131/200\n",
      "1875/1875 [==============================] - 6s 3ms/step - loss: 0.0187\n",
      "Epoch 132/200\n",
      "1875/1875 [==============================] - 5s 3ms/step - loss: 0.0187\n",
      "Epoch 133/200\n",
      "1875/1875 [==============================] - 6s 3ms/step - loss: 0.0187\n",
      "Epoch 134/200\n",
      "1875/1875 [==============================] - 5s 3ms/step - loss: 0.0186\n",
      "Epoch 135/200\n",
      "1875/1875 [==============================] - 6s 3ms/step - loss: 0.0186\n",
      "Epoch 136/200\n",
      "1875/1875 [==============================] - 6s 3ms/step - loss: 0.0186\n",
      "Epoch 137/200\n",
      "1875/1875 [==============================] - 6s 3ms/step - loss: 0.0186A: \n",
      "Epoch 138/200\n",
      "1875/1875 [==============================] - 6s 3ms/step - loss: 0.0185\n",
      "Epoch 139/200\n",
      "1875/1875 [==============================] - 6s 3ms/step - loss: 0.0184\n",
      "Epoch 140/200\n",
      "1875/1875 [==============================] - 5s 3ms/step - loss: 0.0184\n",
      "Epoch 141/200\n",
      "1875/1875 [==============================] - 6s 3ms/step - loss: 0.0184\n",
      "Epoch 142/200\n",
      "1875/1875 [==============================] - 5s 3ms/step - loss: 0.0184\n",
      "Epoch 143/200\n",
      "1875/1875 [==============================] - 6s 3ms/step - loss: 0.0184\n",
      "Epoch 144/200\n",
      "1875/1875 [==============================] - 6s 3ms/step - loss: 0.0183\n",
      "Epoch 145/200\n",
      "1875/1875 [==============================] - 5s 3ms/step - loss: 0.0183\n",
      "Epoch 146/200\n",
      "1875/1875 [==============================] - 6s 3ms/step - loss: 0.0183\n",
      "Epoch 147/200\n",
      "1875/1875 [==============================] - 6s 3ms/step - loss: 0.0183\n",
      "Epoch 148/200\n",
      "1875/1875 [==============================] - 5s 3ms/step - loss: 0.0183\n",
      "Epoch 149/200\n",
      "1875/1875 [==============================] - 5s 3ms/step - loss: 0.0182\n",
      "Epoch 150/200\n",
      "1875/1875 [==============================] - 5s 3ms/step - loss: 0.0182\n",
      "Epoch 151/200\n",
      "1875/1875 [==============================] - 6s 3ms/step - loss: 0.0182\n",
      "Epoch 152/200\n",
      "1875/1875 [==============================] - 6s 3ms/step - loss: 0.0182\n",
      "Epoch 153/200\n",
      "1875/1875 [==============================] - 6s 3ms/step - loss: 0.0182\n",
      "Epoch 154/200\n",
      "1875/1875 [==============================] - 5s 3ms/step - loss: 0.0182\n",
      "Epoch 155/200\n",
      "1875/1875 [==============================] - 5s 3ms/step - loss: 0.0182\n",
      "Epoch 156/200\n",
      "1875/1875 [==============================] - 5s 3ms/step - loss: 0.0181\n",
      "Epoch 157/200\n",
      "1875/1875 [==============================] - 5s 3ms/step - loss: 0.0181\n",
      "Epoch 158/200\n",
      "1875/1875 [==============================] - 6s 3ms/step - loss: 0.0181\n",
      "Epoch 159/200\n",
      "1875/1875 [==============================] - 5s 3ms/step - loss: 0.0181\n",
      "Epoch 160/200\n",
      "1875/1875 [==============================] - 6s 3ms/step - loss: 0.0181\n",
      "Epoch 161/200\n",
      "1875/1875 [==============================] - 6s 3ms/step - loss: 0.0181\n",
      "Epoch 162/200\n",
      "1875/1875 [==============================] - 5s 3ms/step - loss: 0.0180\n",
      "Epoch 163/200\n",
      "1875/1875 [==============================] - 6s 3ms/step - loss: 0.0180\n",
      "Epoch 164/200\n",
      "1875/1875 [==============================] - 6s 3ms/step - loss: 0.0180A: 0s - loss: 0.\n",
      "Epoch 165/200\n",
      "1875/1875 [==============================] - 6s 3ms/step - loss: 0.0180\n",
      "Epoch 166/200\n",
      "1875/1875 [==============================] - 5s 3ms/step - loss: 0.0180\n",
      "Epoch 167/200\n",
      "1875/1875 [==============================] - 5s 3ms/step - loss: 0.0180\n",
      "Epoch 168/200\n",
      "1875/1875 [==============================] - 6s 3ms/step - loss: 0.0180A\n",
      "Epoch 169/200\n",
      "1875/1875 [==============================] - 6s 3ms/step - loss: 0.0180\n",
      "Epoch 170/200\n",
      "1875/1875 [==============================] - 5s 3ms/step - loss: 0.0180\n",
      "Epoch 171/200\n",
      "1875/1875 [==============================] - 5s 3ms/step - loss: 0.0179A: 0s \n",
      "Epoch 172/200\n",
      "1875/1875 [==============================] - 6s 3ms/step - loss: 0.0179\n",
      "Epoch 173/200\n",
      "1875/1875 [==============================] - 6s 3ms/step - loss: 0.0179\n",
      "Epoch 174/200\n",
      "1875/1875 [==============================] - 6s 3ms/step - loss: 0.0179\n",
      "Epoch 175/200\n",
      "1875/1875 [==============================] - 6s 3ms/step - loss: 0.0179\n",
      "Epoch 176/200\n",
      "1875/1875 [==============================] - 5s 3ms/step - loss: 0.0179\n",
      "Epoch 177/200\n",
      "1875/1875 [==============================] - 5s 3ms/step - loss: 0.0179\n",
      "Epoch 178/200\n",
      "1875/1875 [==============================] - 5s 3ms/step - loss: 0.0179\n",
      "Epoch 179/200\n",
      "1875/1875 [==============================] - 5s 3ms/step - loss: 0.0179A: 1 - ETA: 0s -\n",
      "Epoch 180/200\n",
      "1875/1875 [==============================] - 5s 3ms/step - loss: 0.0179\n",
      "Epoch 181/200\n",
      "1875/1875 [==============================] - 5s 3ms/step - loss: 0.0178\n",
      "Epoch 182/200\n",
      "1875/1875 [==============================] - 6s 3ms/step - loss: 0.0178\n",
      "Epoch 183/200\n",
      "1875/1875 [==============================] - 5s 3ms/step - loss: 0.0178\n",
      "Epoch 184/200\n",
      "1875/1875 [==============================] - 5s 3ms/step - loss: 0.0178\n",
      "Epoch 185/200\n",
      "1875/1875 [==============================] - 7s 4ms/step - loss: 0.0178\n",
      "Epoch 186/200\n",
      "1875/1875 [==============================] - 6s 3ms/step - loss: 0.0178A: 2s - l - ETA: 1s - lo\n",
      "Epoch 187/200\n",
      "1875/1875 [==============================] - 6s 3ms/step - loss: 0.0178\n",
      "Epoch 188/200\n",
      "1875/1875 [==============================] - 6s 3ms/step - loss: 0.0178\n",
      "Epoch 189/200\n",
      "1875/1875 [==============================] - 6s 3ms/step - loss: 0.0178\n",
      "Epoch 190/200\n",
      "1875/1875 [==============================] - 6s 3ms/step - loss: 0.0178A\n",
      "Epoch 191/200\n",
      "1875/1875 [==============================] - 5s 3ms/step - loss: 0.0178\n",
      "Epoch 192/200\n",
      "1875/1875 [==============================] - 5s 3ms/step - loss: 0.0177\n",
      "Epoch 193/200\n",
      "1875/1875 [==============================] - 5s 3ms/step - loss: 0.0177\n",
      "Epoch 194/200\n",
      "1875/1875 [==============================] - 5s 3ms/step - loss: 0.0177\n",
      "Epoch 195/200\n",
      "1875/1875 [==============================] - 5s 3ms/step - loss: 0.0177\n",
      "Epoch 196/200\n",
      "1875/1875 [==============================] - 5s 3ms/step - loss: 0.0177\n",
      "Epoch 197/200\n",
      "1875/1875 [==============================] - 5s 3ms/step - loss: 0.0177\n",
      "Epoch 198/200\n",
      "1875/1875 [==============================] - 6s 3ms/step - loss: 0.0177\n",
      "Epoch 199/200\n",
      "1875/1875 [==============================] - 6s 3ms/step - loss: 0.0177\n",
      "Epoch 200/200\n",
      "1875/1875 [==============================] - 6s 3ms/step - loss: 0.0177\n"
     ]
    },
    {
     "data": {
      "text/plain": [
       "<keras.callbacks.History at 0x19f465657f0>"
      ]
     },
     "execution_count": 6,
     "metadata": {},
     "output_type": "execute_result"
    }
   ],
   "source": [
    "model.fit(X, X, epochs=200)\n"
   ]
  },
  {
   "cell_type": "code",
   "execution_count": 7,
   "metadata": {},
   "outputs": [
    {
     "name": "stdout",
     "output_type": "stream",
     "text": [
      "(60000, 98)\n"
     ]
    }
   ],
   "source": [
    "Xencoded = en3(en2(en1(X))).numpy()\n",
    "print(Xencoded.shape)"
   ]
  },
  {
   "cell_type": "code",
   "execution_count": 9,
   "metadata": {},
   "outputs": [
    {
     "name": "stdout",
     "output_type": "stream",
     "text": [
      "accuracy rate= 0.9503\n",
      "confusion matrix:\n",
      "[[ 967    0    0    1    1    5    3    1    2    0]\n",
      " [   0 1123    3    2    0    1    2    1    3    0]\n",
      " [  11    1  977   11    6    1    7    9    9    0]\n",
      " [   1    0   15  955    0   11    1    8   15    4]\n",
      " [   2    0    8    0  940    0    7    1    1   23]\n",
      " [   6    2    2   29    7  821    7    3   11    4]\n",
      " [   9    4    3    0    4    8  928    0    2    0]\n",
      " [   1   11   21    3    6    1    0  964    3   18]\n",
      " [   5    3    5   14    8   20    6    6  903    4]\n",
      " [   8    4    2   13   35    3    1   12    6  925]]\n"
     ]
    }
   ],
   "source": [
    "clf1 = SVC()\n",
    "clf1.fit(Xencoded, Y)\n",
    "Xtestencoded = en3(en2(en1(Xtest))).numpy()\n",
    "Z1 = clf1.predict(Xtestencoded)\n",
    "print('accuracy rate=', accuracy_score(Ytest, Z1))\n",
    "print('confusion matrix:')\n",
    "print(confusion_matrix(Ytest, Z1))"
   ]
  },
  {
   "cell_type": "markdown",
   "metadata": {},
   "source": [
    "# Autoencoder as Reconstructor"
   ]
  },
  {
   "cell_type": "markdown",
   "metadata": {},
   "source": [
    "ใช้แต่ decoder"
   ]
  },
  {
   "cell_type": "code",
   "execution_count": 11,
   "metadata": {},
   "outputs": [],
   "source": [
    "import tensorflow as tf\n",
    "import numpy as np\n",
    "from tensorflow.keras import Model, Input, layers, losses, optimizers, datasets\n",
    "from matplotlib import pyplot as plt"
   ]
  },
  {
   "cell_type": "code",
   "execution_count": null,
   "metadata": {},
   "outputs": [],
   "source": [
    "# 784-392-196-98-196-392-784\n",
    "inputs = Input(shape=X.shape[1])\n",
    "en1 = tf.keras.layers.Dense(X.shape[1] // 2, activation='relu')\n",
    "en2 = tf.keras.layers.Dense(X.shape[1] // 4, activation='relu')\n",
    "en3 = tf.keras.layers.Dense(X.shape[1] // 8, activation='relu')\n",
    "\n",
    "de1 = tf.keras.layers.Dense(X.shape[1] // 4, activation='relu')\n",
    "de2 = tf.keras.layers.Dense(X.shape[1] // 2, activation='relu')\n",
    "de3 = tf.keras.layers.Dense(X.shape[1], activation='relu')\n",
    "\n",
    "outputs = de3(de2(de1(en3(en2(en1(inputs))))))\n",
    "model = Model(inputs,outputs)\n"
   ]
  },
  {
   "cell_type": "code",
   "execution_count": 13,
   "metadata": {},
   "outputs": [
    {
     "data": {
      "text/plain": [
       "<function matplotlib.pyplot.show(close=None, block=None)>"
      ]
     },
     "execution_count": 13,
     "metadata": {},
     "output_type": "execute_result"
    },
    {
     "data": {
      "image/png": "[encoded data removed]",
      "text/plain": [
       "<Figure size 1800x1800 with 10 Axes>"
      ]
     },
     "metadata": {
      "needs_background": "light"
     },
     "output_type": "display_data"
    }
   ],
   "source": [
    "Xtestencoded = en3(en2(en1(Xtest))).numpy()\n",
    "Recon = de3(de2(de1(Xtestencoded))).numpy()\n",
    "\n",
    "n =10\n",
    "plt.figure(figsize=(25,25))\n",
    "for j,i in enumerate(np.random.randint(0,len(Recon),n)):\n",
    "    plt.subplot(1,n,j+1)\n",
    "    plt.imshow(Recon[i].reshape(28,28))\n",
    "    plt.title(Ytest[i])\n",
    "    plt.axis('off')\n",
    "plt.show\n",
    "\n"
   ]
  },
  {
   "cell_type": "markdown",
   "metadata": {},
   "source": [
    "ผสมระหว่าง 8 4 โดยวิธีการ cross over\n"
   ]
  },
  {
   "cell_type": "code",
   "execution_count": 16,
   "metadata": {},
   "outputs": [
    {
     "data": {
      "image/png": "[encoded data removed]",
      "text/plain": [
       "<Figure size 1800x1800 with 10 Axes>"
      ]
     },
     "metadata": {
      "needs_background": "light"
     },
     "output_type": "display_data"
    }
   ],
   "source": [
    "p = [4,8]\n",
    "p1 = np.where(Ytest == p[0])[0]\n",
    "p2 = np.where(Ytest == p[1])[0]\n",
    "n = 10\n",
    "plt.figure(figsize = (25,25))\n",
    "for i in range(n):\n",
    "    temp  =Xtestencoded[[np.random.choice(p1),np.random.choice(p2)]]\n",
    "    x = np.hstack((temp[0,:temp.shape[1]//2],\n",
    "                    temp[1,temp.shape[1]//2:])).reshape(1,temp.shape[1])\n",
    "    Recon = de3(de2(de1(x))).numpy()\n",
    "    Recon = Recon.reshape((len(Recon),28,28))[0]\n",
    "    plt.subplot(1,n,i+1)\n",
    "    plt.imshow(Recon)\n",
    "    plt.title(str(p[0])+'+'+str(p[1]))\n",
    "    plt.axis('off')\n",
    "plt.show()\n"
   ]
  },
  {
   "cell_type": "markdown",
   "metadata": {},
   "source": [
    "# Autoencoder with CNN"
   ]
  },
  {
   "cell_type": "code",
   "execution_count": 1,
   "metadata": {},
   "outputs": [],
   "source": [
    "import tensorflow as tf\n",
    "import numpy as np\n",
    "from tensorflow.keras import Model, Input, layers, losses, optimizers, datasets\n",
    "from matplotlib import pyplot as plt\n",
    "\n",
    "(X, Y), (Xtest, Ytest) = datasets.mnist.load_data()\n",
    "\n",
    "X = X.astype(np.float32) / 255.0\n",
    "Xtest = Xtest.astype(np.float32) / 255.0"
   ]
  },
  {
   "cell_type": "code",
   "execution_count": 2,
   "metadata": {},
   "outputs": [],
   "source": [
    "inputs = Input(shape=(*X.shape[1:], 1))\n",
    "x = layers.Conv2D(16, (3, 3), activation='relu', padding='same')(inputs)\n",
    "x = layers.MaxPooling2D((2, 2), padding='same')(x)\n",
    "x = layers.Conv2D(8, (3, 3), activation='relu', padding='same')(x)\n",
    "x = layers.MaxPooling2D((2, 2), padding='same')(x)\n",
    "x = layers.Conv2D(8, (3, 3), activation='relu', padding='same')(x)\n",
    "encoded = layers.MaxPooling2D((2, 2), padding='same')(x)\n",
    "\n",
    "encoder = Model(inputs, encoded, name='encoder')\n",
    "\n",
    "encoded_inputs = Input(shape=encoded.shape[1:])\n",
    "x = layers.Conv2D(8, (3, 3), activation='relu', padding='same')(encoded_inputs)\n",
    "x = layers.UpSampling2D((2, 2))(x) # จาก 2*2 => 4*4\n",
    "x = layers.Conv2D(8, (3, 3), activation='relu', padding='same')(x)\n",
    "x = layers.UpSampling2D((2, 2))(x)\n",
    "x = layers.Conv2D(16, (3, 3), activation='relu')(x)\n",
    "x = layers.UpSampling2D((2, 2))(x)\n",
    "decoded = layers.Conv2D(1, (3, 3), activation='sigmoid', padding='same')(x)\n",
    "\n",
    "decoder = Model(encoded_inputs, decoded, name='decoder')\n",
    "\n",
    "model = Model(inputs, decoder(encoder(inputs)), name='autoencoder')\n",
    "model.compile(optimizer='sgd', loss='mse')"
   ]
  },
  {
   "cell_type": "code",
   "execution_count": 3,
   "metadata": {},
   "outputs": [
    {
     "name": "stdout",
     "output_type": "stream",
     "text": [
      "Model: \"autoencoder\"\n",
      "_________________________________________________________________\n",
      "Layer (type)                 Output Shape              Param #   \n",
      "=================================================================\n",
      "input_1 (InputLayer)         [(None, 28, 28, 1)]       0         \n",
      "_________________________________________________________________\n",
      "encoder (Functional)         (None, 4, 4, 8)           1904      \n",
      "_________________________________________________________________\n",
      "decoder (Functional)         (None, 28, 28, 1)         2481      \n",
      "=================================================================\n",
      "Total params: 4,385\n",
      "Trainable params: 4,385\n",
      "Non-trainable params: 0\n",
      "_________________________________________________________________\n"
     ]
    }
   ],
   "source": [
    "model.summary()"
   ]
  },
  {
   "cell_type": "code",
   "execution_count": 4,
   "metadata": {},
   "outputs": [
    {
     "name": "stdout",
     "output_type": "stream",
     "text": [
      "Epoch 1/50\n",
      "1875/1875 [==============================] - 21s 8ms/step - loss: 0.1058: 0s\n",
      "Epoch 2/50\n",
      "1875/1875 [==============================] - 16s 9ms/step - loss: 0.0576\n",
      "Epoch 3/50\n",
      "1875/1875 [==============================] - 15s 8ms/step - loss: 0.0494\n",
      "Epoch 4/50\n",
      "1875/1875 [==============================] - 15s 8ms/step - loss: 0.0454\n",
      "Epoch 5/50\n",
      "1875/1875 [==============================] - 14s 7ms/step - loss: 0.0428\n",
      "Epoch 6/50\n",
      "1875/1875 [==============================] - 15s 8ms/step - loss: 0.0409\n",
      "Epoch 7/50\n",
      "1875/1875 [==============================] - 17s 9ms/step - loss: 0.0394: 0s\n",
      "Epoch 8/50\n",
      "1875/1875 [==============================] - 16s 9ms/step - loss: 0.0382\n",
      "Epoch 9/50\n",
      "1875/1875 [==============================] - 15s 8ms/step - loss: 0.0372\n",
      "Epoch 10/50\n",
      "1875/1875 [==============================] - 14s 8ms/step - loss: 0.0363\n",
      "Epoch 11/50\n",
      "1875/1875 [==============================] - 14s 7ms/step - loss: 0.0355\n",
      "Epoch 12/50\n",
      "1875/1875 [==============================] - 14s 7ms/step - loss: 0.0347\n",
      "Epoch 13/50\n",
      "1875/1875 [==============================] - 15s 8ms/step - loss: 0.0339\n",
      "Epoch 14/50\n",
      "1875/1875 [==============================] - 15s 8ms/step - loss: 0.0333\n",
      "Epoch 15/50\n",
      "1875/1875 [==============================] - 15s 8ms/step - loss: 0.0325\n",
      "Epoch 16/50\n",
      "1875/1875 [==============================] - 15s 8ms/step - loss: 0.0319\n",
      "Epoch 17/50\n",
      "1875/1875 [==============================] - 15s 8ms/step - loss: 0.0313\n",
      "Epoch 18/50\n",
      "1875/1875 [==============================] - 15s 8ms/step - loss: 0.0307\n",
      "Epoch 19/50\n",
      "1875/1875 [==============================] - 14s 7ms/step - loss: 0.0302\n",
      "Epoch 20/50\n",
      "1875/1875 [==============================] - 14s 7ms/step - loss: 0.0297\n",
      "Epoch 21/50\n",
      "1875/1875 [==============================] - 14s 8ms/step - loss: 0.0293\n",
      "Epoch 22/50\n",
      "1875/1875 [==============================] - 14s 8ms/step - loss: 0.0289\n",
      "Epoch 23/50\n",
      "1875/1875 [==============================] - 16s 8ms/step - loss: 0.0285\n",
      "Epoch 24/50\n",
      "1875/1875 [==============================] - 16s 8ms/step - loss: 0.0281\n",
      "Epoch 25/50\n",
      "1875/1875 [==============================] - 16s 9ms/step - loss: 0.0278\n",
      "Epoch 26/50\n",
      "1875/1875 [==============================] - 15s 8ms/step - loss: 0.0275\n",
      "Epoch 27/50\n",
      "1875/1875 [==============================] - 15s 8ms/step - loss: 0.0272\n",
      "Epoch 28/50\n",
      "1875/1875 [==============================] - 14s 8ms/step - loss: 0.0269\n",
      "Epoch 29/50\n",
      "1875/1875 [==============================] - 14s 7ms/step - loss: 0.0267\n",
      "Epoch 30/50\n",
      "1875/1875 [==============================] - 14s 7ms/step - loss: 0.0264\n",
      "Epoch 31/50\n",
      "1875/1875 [==============================] - 14s 7ms/step - loss: 0.0261: 0s - \n",
      "Epoch 32/50\n",
      "1875/1875 [==============================] - 14s 8ms/step - loss: 0.0259\n",
      "Epoch 33/50\n",
      "1875/1875 [==============================] - 15s 8ms/step - loss: 0.0257\n",
      "Epoch 34/50\n",
      "1875/1875 [==============================] - 15s 8ms/step - loss: 0.0255\n",
      "Epoch 35/50\n",
      "1875/1875 [==============================] - 16s 9ms/step - loss: 0.0253\n",
      "Epoch 36/50\n",
      "1875/1875 [==============================] - 17s 9ms/step - loss: 0.0251\n",
      "Epoch 37/50\n",
      "1875/1875 [==============================] - 15s 8ms/step - loss: 0.0249\n",
      "Epoch 38/50\n",
      "1875/1875 [==============================] - 14s 7ms/step - loss: 0.0247\n",
      "Epoch 39/50\n",
      "1875/1875 [==============================] - 14s 7ms/step - loss: 0.0245\n",
      "Epoch 40/50\n",
      "1875/1875 [==============================] - 15s 8ms/step - loss: 0.0243\n",
      "Epoch 41/50\n",
      "1875/1875 [==============================] - 14s 8ms/step - loss: 0.0242\n",
      "Epoch 42/50\n",
      "1875/1875 [==============================] - 14s 7ms/step - loss: 0.0240\n",
      "Epoch 43/50\n",
      "1875/1875 [==============================] - 14s 8ms/step - loss: 0.0239\n",
      "Epoch 44/50\n",
      "1875/1875 [==============================] - 15s 8ms/step - loss: 0.0237\n",
      "Epoch 45/50\n",
      "1875/1875 [==============================] - 16s 8ms/step - loss: 0.0236\n",
      "Epoch 46/50\n",
      "1875/1875 [==============================] - 14s 8ms/step - loss: 0.0234\n",
      "Epoch 47/50\n",
      "1875/1875 [==============================] - 15s 8ms/step - loss: 0.0233\n",
      "Epoch 48/50\n",
      "1875/1875 [==============================] - 14s 8ms/step - loss: 0.0232\n",
      "Epoch 49/50\n",
      "1875/1875 [==============================] - 16s 9ms/step - loss: 0.0230\n",
      "Epoch 50/50\n",
      "1875/1875 [==============================] - 16s 9ms/step - loss: 0.0229\n"
     ]
    },
    {
     "data": {
      "text/plain": [
       "<keras.callbacks.History at 0x1da3e5ae4f0>"
      ]
     },
     "execution_count": 4,
     "metadata": {},
     "output_type": "execute_result"
    }
   ],
   "source": [
    "model.fit(X[:,:,:,None], X[:,:,:,None], epochs=50)"
   ]
  },
  {
   "cell_type": "code",
   "execution_count": 5,
   "metadata": {},
   "outputs": [
    {
     "data": {
      "image/png": "[encoded data removed]",
      "text/plain": [
       "<Figure size 1800x1800 with 10 Axes>"
      ]
     },
     "metadata": {
      "needs_background": "light"
     },
     "output_type": "display_data"
    }
   ],
   "source": [
    "Z = model(Xtest)\n",
    "n = 10\n",
    "plt.figure(figsize=(25, 25))\n",
    "for i in range(n):\n",
    "  plt.subplot(1, n, i+1)\n",
    "  plt.imshow(Z[i][:,:,0])\n",
    "  plt.axis('off')\n",
    "plt.show()"
   ]
  },
  {
   "cell_type": "code",
   "execution_count": 6,
   "metadata": {},
   "outputs": [
    {
     "data": {
      "image/png": "[encoded data removed]",
      "text/plain": [
       "<Figure size 720x720 with 10 Axes>"
      ]
     },
     "metadata": {
      "needs_background": "light"
     },
     "output_type": "display_data"
    }
   ],
   "source": [
    "Z = encoder(Xtest)\n",
    "n = 10\n",
    "plt.figure(figsize=(10, 10))\n",
    "for i in range(n):\n",
    "  plt.subplot(1, n, i+1)\n",
    "  plt.imshow(Z[i].numpy().reshape(32, -1))\n",
    "  plt.axis('off')\n",
    "plt.show()"
   ]
  }
 ],
 "metadata": {
  "interpreter": {
   "hash": "f08154012ddadd8e950e6e9e035c7a7b32c136e7647e9b7c77e02eb723a8bedb"
  },
  "kernelspec": {
   "display_name": "Python 3.8.12 ('base')",
   "language": "python",
   "name": "python3"
  },
  "language_info": {
   "codemirror_mode": {
    "name": "ipython",
    "version": 3
   },
   "file_extension": ".py",
   "mimetype": "text/x-python",
   "name": "python",
   "nbconvert_exporter": "python",
   "pygments_lexer": "ipython3",
   "version": "3.8.12"
  },
  "orig_nbformat": 4
 },
 "nbformat": 4,
 "nbformat_minor": 2
}
